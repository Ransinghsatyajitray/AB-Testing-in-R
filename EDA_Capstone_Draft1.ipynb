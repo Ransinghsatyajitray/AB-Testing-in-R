{
  "nbformat": 4,
  "nbformat_minor": 0,
  "metadata": {
    "colab": {
      "name": "EDA_Capstone_Draft1.ipynb",
      "provenance": [],
      "collapsed_sections": [],
      "toc_visible": true,
      "include_colab_link": true
    },
    "kernelspec": {
      "name": "python3",
      "display_name": "Python 3"
    }
  },
  "cells": [
    {
      "cell_type": "markdown",
      "metadata": {
        "id": "view-in-github",
        "colab_type": "text"
      },
      "source": [
        "<a href=\"https://colab.research.google.com/github/Ransinghsatyajitray/AB-Testing-in-R/blob/master/EDA_Capstone_Draft1.ipynb\" target=\"_parent\"><img src=\"https://colab.research.google.com/assets/colab-badge.svg\" alt=\"Open In Colab\"/></a>"
      ]
    },
    {
      "cell_type": "markdown",
      "metadata": {
        "id": "VrGwIvyO6fQA"
      },
      "source": [
        "# **AIML Online Capstone -AUTOMATIC TICKET ASSIGNMENT**\n",
        "\n",
        ">## **Problem Statement**\n",
        "\n",
        "During the process of incident assignments by L1 / L2 teams to functional groups, there were multiple instances of incidents getting assigned to wrong functional groups. Around ~25% of Incidents are wrongly assigned to functional teams. Additional effort needed for Functional teams to re-assign to right functional groups. During this process, some of the incidents are in queue and not addressed timely resulting in poor customer service.Guided by powerful AI techniques that can classify incidents to right functional groups can help organizations to reduce the resolving time of the issue and can focus on more productive tasks.\n",
        "\n",
        "Objective. An incident is something that is unplanned interruption to an IT service orreduction in the quality of an IT service that affects the Users and the Business. The main goalof Incident Management process is to provide a quick fix / workarounds or solutions thatresolves the interruption and restores the service to its full capacity to ensure no businessimpact.\n",
        "\n",
        "Assigning the incidents to the appropriate person or unit in the support team has critical importance to provide improved user satisfaction while ensuring better allocation of support resources. \n",
        "\n",
        "* Around ~54% of the incidents are resolved by L1 / L2 teams. \n",
        "* Incase L1 / L2 is unable to resolve, they will then escalate / assign the tickets to Functional teams from Applications and Infrastructure (L3 teams). Some portions of incidents are directly assigned to L3 teams by either Monitoring tools or Callers / Requestors.\n",
        "* L3 teams will carry out detailed diagnosis and resolve the incidents. Around ~56% of incidents are resolved by Functional / L3 teams.\n",
        "* Incase if vendor support is needed, they will reach out for their support towards incident closure.L1 / L2 needs to spend time reviewing Standard Operating Procedures (SOPs) before assigning to Functional teams (Minimum ~25-30% of incidents needs to be reviewed for SOPs before ticket assignment). \n",
        "* 15 min is being spent for SOP review for each incident. Minimum of ~1 FTE effort needed only for incident assignment to L3 teams.\n",
        "\n",
        "\n",
        "\n",
        "\n",
        "\n",
        "\n"
      ]
    },
    {
      "cell_type": "markdown",
      "metadata": {
        "id": "SepU2QjFCx0h"
      },
      "source": [
        "#**Team priorities**\n",
        "1 -min ,5 -max\n",
        "* Saturday extend team meetings -10am to 1 pm , 3pm to 6pm(optional)"
      ]
    },
    {
      "cell_type": "markdown",
      "metadata": {
        "id": "Apq7Qw_b8VJJ"
      },
      "source": [
        "##@ To Do $Team (2) - Break down business problem statement\n",
        "* 1. Performance Benchmarks\n",
        "15 min is being spent for SOP review for each incident. Minimum of ~1 FTE effort needed only for incident assignment to L3 teams.\n",
        "* 2.Available Models - find the possible models\n",
        "\n",
        "Observations:\n",
        "1) The data that we have is not sequential.So we don't need to use memory based models.wrong\n",
        "2) On initial analysis it seems word2vec will be enough for us. Word2Vec needs to be paired with a classification model.(Naive Bayes, Random Forest , ANN or anyother)\n",
        "3) Need to research on different types of word2vec models that are availaible.\n",
        "\n",
        "\n",
        "\n",
        "* 3. Accuracy and other metrics\n",
        "\n",
        "Minimum ~25-30% of incidents needs to be reviewed for SOPs before ticket assignment)"
      ]
    },
    {
      "cell_type": "code",
      "metadata": {
        "id": "URiboD_5mGw8",
        "colab": {
          "base_uri": "https://localhost:8080/",
          "height": 404
        },
        "outputId": "1abb7302-479e-4216-ea28-71855a2110ef"
      },
      "source": [
        "from google.colab import drive\n",
        "drive.mount('/content/drive')"
      ],
      "execution_count": null,
      "outputs": [
        {
          "output_type": "stream",
          "text": [
            "Go to this URL in a browser: https://accounts.google.com/o/oauth2/auth?client_id=947318989803-6bn6qk8qdgf4n4g3pfee6491hc0brc4i.apps.googleusercontent.com&redirect_uri=urn%3aietf%3awg%3aoauth%3a2.0%3aoob&scope=email%20https%3a%2f%2fwww.googleapis.com%2fauth%2fdocs.test%20https%3a%2f%2fwww.googleapis.com%2fauth%2fdrive%20https%3a%2f%2fwww.googleapis.com%2fauth%2fdrive.photos.readonly%20https%3a%2f%2fwww.googleapis.com%2fauth%2fpeopleapi.readonly%20https%3a%2f%2fwww.googleapis.com%2fauth%2fdrive.activity.readonly%20https%3a%2f%2fwww.googleapis.com%2fauth%2fexperimentsandconfigs%20https%3a%2f%2fwww.googleapis.com%2fauth%2fphotos.native&response_type=code\n",
            "\n",
            "Enter your authorization code:\n",
            "\n"
          ],
          "name": "stdout"
        },
        {
          "output_type": "error",
          "ename": "ValueError",
          "evalue": "ignored",
          "traceback": [
            "\u001b[0;31m---------------------------------------------------------------------------\u001b[0m",
            "\u001b[0;31mValueError\u001b[0m                                Traceback (most recent call last)",
            "\u001b[0;32m<ipython-input-1-d5df0069828e>\u001b[0m in \u001b[0;36m<module>\u001b[0;34m()\u001b[0m\n\u001b[1;32m      1\u001b[0m \u001b[0;32mfrom\u001b[0m \u001b[0mgoogle\u001b[0m\u001b[0;34m.\u001b[0m\u001b[0mcolab\u001b[0m \u001b[0;32mimport\u001b[0m \u001b[0mdrive\u001b[0m\u001b[0;34m\u001b[0m\u001b[0;34m\u001b[0m\u001b[0m\n\u001b[0;32m----> 2\u001b[0;31m \u001b[0mdrive\u001b[0m\u001b[0;34m.\u001b[0m\u001b[0mmount\u001b[0m\u001b[0;34m(\u001b[0m\u001b[0;34m'/content/drive'\u001b[0m\u001b[0;34m)\u001b[0m\u001b[0;34m\u001b[0m\u001b[0;34m\u001b[0m\u001b[0m\n\u001b[0m",
            "\u001b[0;32m/usr/local/lib/python3.7/dist-packages/google/colab/drive.py\u001b[0m in \u001b[0;36mmount\u001b[0;34m(mountpoint, force_remount, timeout_ms, use_metadata_server)\u001b[0m\n\u001b[1;32m    261\u001b[0m       \u001b[0mwrote_to_fifo\u001b[0m \u001b[0;34m=\u001b[0m \u001b[0;32mTrue\u001b[0m\u001b[0;34m\u001b[0m\u001b[0;34m\u001b[0m\u001b[0m\n\u001b[1;32m    262\u001b[0m     \u001b[0;32melif\u001b[0m \u001b[0mcase\u001b[0m \u001b[0;34m==\u001b[0m \u001b[0;36m5\u001b[0m\u001b[0;34m:\u001b[0m\u001b[0;34m\u001b[0m\u001b[0;34m\u001b[0m\u001b[0m\n\u001b[0;32m--> 263\u001b[0;31m       \u001b[0;32mraise\u001b[0m \u001b[0mValueError\u001b[0m\u001b[0;34m(\u001b[0m\u001b[0;34m'mount failed: invalid oauth code'\u001b[0m\u001b[0;34m)\u001b[0m\u001b[0;34m\u001b[0m\u001b[0;34m\u001b[0m\u001b[0m\n\u001b[0m\u001b[1;32m    264\u001b[0m     \u001b[0;32melif\u001b[0m \u001b[0mcase\u001b[0m \u001b[0;34m==\u001b[0m \u001b[0;36m6\u001b[0m\u001b[0;34m:\u001b[0m\u001b[0;34m\u001b[0m\u001b[0;34m\u001b[0m\u001b[0m\n\u001b[1;32m    265\u001b[0m       \u001b[0;31m# Terminate the DriveFS binary before killing bash.\u001b[0m\u001b[0;34m\u001b[0m\u001b[0;34m\u001b[0m\u001b[0;34m\u001b[0m\u001b[0m\n",
            "\u001b[0;31mValueError\u001b[0m: mount failed: invalid oauth code"
          ]
        }
      ]
    },
    {
      "cell_type": "markdown",
      "metadata": {
        "id": "kH9NJHz1Q9RF"
      },
      "source": [
        "## Import Libraries"
      ]
    },
    {
      "cell_type": "code",
      "metadata": {
        "id": "85MIGz7kQ1hC"
      },
      "source": [
        "import pandas as pd ,os,re\n",
        "import matplotlib.pyplot as plt\n",
        "%matplotlib inline\n",
        "from matplotlib import pyplot\n",
        "import seaborn as sns\n",
        "from google.colab import files\n",
        "import io"
      ],
      "execution_count": null,
      "outputs": []
    },
    {
      "cell_type": "markdown",
      "metadata": {
        "id": "x0jsb_5Z8BRE"
      },
      "source": [
        "The Goal of this document is as follows\n",
        "\n",
        "Pre-Processing, Data Visualization and EDA \n",
        "\n",
        "*   Exploring the given Data files\n",
        "*   Understanding the structure of data\n",
        "*   Missing points in data\n",
        "*Finding inconsistencies in the data\n",
        "*Visualizing different patterns \n",
        "*Visualizing different text features\n",
        "*Dealing with missing values\n",
        "*Text preprocessing \n",
        "*Creating word vocabulary from the corpus of report text data\n",
        "*Creating tokens as required"
      ]
    },
    {
      "cell_type": "markdown",
      "metadata": {
        "id": "J4iiBi3LBR6z"
      },
      "source": [
        "## Dataset\n",
        "\n",
        "> https://drive.google.com/file/d/1OZNJm81JXucV3HmZroMq6qCT2m7ez7IJ/view\n",
        "\n",
        "\n",
        "\n"
      ]
    },
    {
      "cell_type": "code",
      "metadata": {
        "colab": {
          "resources": {
            "http://localhost:8080/nbextensions/google.colab/files.js": {
              "data": "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",
              "ok": true,
              "headers": [
                [
                  "content-type",
                  "application/javascript"
                ]
              ],
              "status": 200,
              "status_text": ""
            }
          },
          "base_uri": "https://localhost:8080/",
          "height": 72
        },
        "id": "3yevoWOjBzGE",
        "outputId": "b0822bbf-8142-4e4b-b4d7-80cfa4414e20"
      },
      "source": [
        "uploaded = files.upload()"
      ],
      "execution_count": null,
      "outputs": [
        {
          "output_type": "display_data",
          "data": {
            "text/html": [
              "\n",
              "     <input type=\"file\" id=\"files-397faf6e-2088-4b7f-8955-ad88a5fd1d9d\" name=\"files[]\" multiple disabled\n",
              "        style=\"border:none\" />\n",
              "     <output id=\"result-397faf6e-2088-4b7f-8955-ad88a5fd1d9d\">\n",
              "      Upload widget is only available when the cell has been executed in the\n",
              "      current browser session. Please rerun this cell to enable.\n",
              "      </output>\n",
              "      <script src=\"/nbextensions/google.colab/files.js\"></script> "
            ],
            "text/plain": [
              "<IPython.core.display.HTML object>"
            ]
          },
          "metadata": {
            "tags": []
          }
        },
        {
          "output_type": "stream",
          "text": [
            "Saving input_data.xlsx to input_data.xlsx\n"
          ],
          "name": "stdout"
        }
      ]
    },
    {
      "cell_type": "code",
      "metadata": {
        "id": "3pZkx0jhF42i"
      },
      "source": [
        "\n",
        "dataset = pd.read_excel(io.BytesIO(uploaded['input_data.xlsx']))\n",
        "dataset_R=dataset.copy() # Dataset for RanSingh\n",
        "dataset_P=dataset.copy() # Dataset for Purnendu\n",
        "dataset_A=dataset.copy() # Dataset for Avik\n",
        "dataset_S=dataset.copy() # Dataset for Sid"
      ],
      "execution_count": null,
      "outputs": []
    },
    {
      "cell_type": "markdown",
      "metadata": {
        "id": "RyXM6dXtGGV3"
      },
      "source": [
        "## Exploratory Data Analysis"
      ]
    },
    {
      "cell_type": "markdown",
      "metadata": {
        "id": "0c-QIm_OGRQZ"
      },
      "source": [
        "### Dataset Examples\n",
        "From the subset of data we can infer that the data set have 4 columns \n",
        "* 'Short description' : Summary of the raised ticket.\n",
        "* 'Description' : Complete details of the ticket.\n",
        "* 'Caller' : Masked Customer First Name and Last Name\n",
        "* 'Group' : Category/Classification of the ticket -Dependent Variable\n"
      ]
    },
    {
      "cell_type": "code",
      "metadata": {
        "colab": {
          "base_uri": "https://localhost:8080/",
          "height": 204
        },
        "id": "zyMMdZXlF98o",
        "outputId": "b5cbf154-75fa-4300-954e-ddbf48eac8cc"
      },
      "source": [
        "dataset.head()"
      ],
      "execution_count": null,
      "outputs": [
        {
          "output_type": "execute_result",
          "data": {
            "text/html": [
              "<div>\n",
              "<style scoped>\n",
              "    .dataframe tbody tr th:only-of-type {\n",
              "        vertical-align: middle;\n",
              "    }\n",
              "\n",
              "    .dataframe tbody tr th {\n",
              "        vertical-align: top;\n",
              "    }\n",
              "\n",
              "    .dataframe thead th {\n",
              "        text-align: right;\n",
              "    }\n",
              "</style>\n",
              "<table border=\"1\" class=\"dataframe\">\n",
              "  <thead>\n",
              "    <tr style=\"text-align: right;\">\n",
              "      <th></th>\n",
              "      <th>Short description</th>\n",
              "      <th>Description</th>\n",
              "      <th>Caller</th>\n",
              "      <th>Assignment group</th>\n",
              "    </tr>\n",
              "  </thead>\n",
              "  <tbody>\n",
              "    <tr>\n",
              "      <th>0</th>\n",
              "      <td>login issue</td>\n",
              "      <td>-verified user details.(employee# &amp; manager na...</td>\n",
              "      <td>spxjnwir pjlcoqds</td>\n",
              "      <td>GRP_0</td>\n",
              "    </tr>\n",
              "    <tr>\n",
              "      <th>1</th>\n",
              "      <td>outlook</td>\n",
              "      <td>\\r\\n\\r\\nreceived from: hmjdrvpb.komuaywn@gmail...</td>\n",
              "      <td>hmjdrvpb komuaywn</td>\n",
              "      <td>GRP_0</td>\n",
              "    </tr>\n",
              "    <tr>\n",
              "      <th>2</th>\n",
              "      <td>cant log in to vpn</td>\n",
              "      <td>\\r\\n\\r\\nreceived from: eylqgodm.ybqkwiam@gmail...</td>\n",
              "      <td>eylqgodm ybqkwiam</td>\n",
              "      <td>GRP_0</td>\n",
              "    </tr>\n",
              "    <tr>\n",
              "      <th>3</th>\n",
              "      <td>unable to access hr_tool page</td>\n",
              "      <td>unable to access hr_tool page</td>\n",
              "      <td>xbkucsvz gcpydteq</td>\n",
              "      <td>GRP_0</td>\n",
              "    </tr>\n",
              "    <tr>\n",
              "      <th>4</th>\n",
              "      <td>skype error</td>\n",
              "      <td>skype error</td>\n",
              "      <td>owlgqjme qhcozdfx</td>\n",
              "      <td>GRP_0</td>\n",
              "    </tr>\n",
              "  </tbody>\n",
              "</table>\n",
              "</div>"
            ],
            "text/plain": [
              "               Short description  ... Assignment group\n",
              "0                    login issue  ...            GRP_0\n",
              "1                        outlook  ...            GRP_0\n",
              "2             cant log in to vpn  ...            GRP_0\n",
              "3  unable to access hr_tool page  ...            GRP_0\n",
              "4                   skype error   ...            GRP_0\n",
              "\n",
              "[5 rows x 4 columns]"
            ]
          },
          "metadata": {
            "tags": []
          },
          "execution_count": 12
        }
      ]
    },
    {
      "cell_type": "markdown",
      "metadata": {
        "id": "ZiTnBvqJHZKX"
      },
      "source": [
        "### Attributes Datatypes & Description\n",
        "\n"
      ]
    },
    {
      "cell_type": "markdown",
      "metadata": {
        "id": "I9wudJwwLJRv"
      },
      "source": [
        "####Shape\n",
        "The dataset represents a total of 8500 tickects and have 4 attributes describing the classification of each ticket"
      ]
    },
    {
      "cell_type": "code",
      "metadata": {
        "id": "9f37-dSULCK4",
        "colab": {
          "base_uri": "https://localhost:8080/"
        },
        "outputId": "83eaf0bf-e8f2-46dc-8a75-e313e9e75467"
      },
      "source": [
        "dataset.shape"
      ],
      "execution_count": null,
      "outputs": [
        {
          "output_type": "execute_result",
          "data": {
            "text/plain": [
              "(8500, 4)"
            ]
          },
          "metadata": {
            "tags": []
          },
          "execution_count": 13
        }
      ]
    },
    {
      "cell_type": "markdown",
      "metadata": {
        "id": "rjDE5elXKywq"
      },
      "source": [
        "#### Info\n",
        "From the dataset attributes/column info we identified that all the columns are object types and contains mainly Strings\n",
        "* 'Caller' and 'Assignment group' are Not null for any record\n",
        "* However for the columns 'Short description' and 'Descriptions' have 8 nulls and 1 null value respectively."
      ]
    },
    {
      "cell_type": "code",
      "metadata": {
        "colab": {
          "base_uri": "https://localhost:8080/"
        },
        "id": "oaq84h6zHO1M",
        "outputId": "8efdf178-033f-4f72-cb31-d1f3d75a24a5"
      },
      "source": [
        "dataset.info()"
      ],
      "execution_count": null,
      "outputs": [
        {
          "output_type": "stream",
          "text": [
            "<class 'pandas.core.frame.DataFrame'>\n",
            "RangeIndex: 8500 entries, 0 to 8499\n",
            "Data columns (total 4 columns):\n",
            " #   Column             Non-Null Count  Dtype \n",
            "---  ------             --------------  ----- \n",
            " 0   Short description  8492 non-null   object\n",
            " 1   Description        8499 non-null   object\n",
            " 2   Caller             8500 non-null   object\n",
            " 3   Assignment group   8500 non-null   object\n",
            "dtypes: object(4)\n",
            "memory usage: 265.8+ KB\n"
          ],
          "name": "stdout"
        }
      ]
    },
    {
      "cell_type": "markdown",
      "metadata": {
        "id": "MPg8pOi5HmXK"
      },
      "source": [
        "#### Describe\n",
        "\n",
        "* Out of 8500 individual tickets 74 distinct classifications of tickets exists for 2950 customers\n",
        "\n",
        "* All the Dataset attributes are not unique.\n",
        "* 'Password reset' is the most common ticket raised by the callers.\n",
        "\n",
        "* GRP_0 is the most common ticket group with 3976 individual tickets raised.\n"
      ]
    },
    {
      "cell_type": "code",
      "metadata": {
        "colab": {
          "base_uri": "https://localhost:8080/",
          "height": 173
        },
        "id": "8-CeU9TNIyr3",
        "outputId": "53746fd1-2165-4445-9da8-3430a5202fbc"
      },
      "source": [
        "dataset.describe()"
      ],
      "execution_count": null,
      "outputs": [
        {
          "output_type": "execute_result",
          "data": {
            "text/html": [
              "<div>\n",
              "<style scoped>\n",
              "    .dataframe tbody tr th:only-of-type {\n",
              "        vertical-align: middle;\n",
              "    }\n",
              "\n",
              "    .dataframe tbody tr th {\n",
              "        vertical-align: top;\n",
              "    }\n",
              "\n",
              "    .dataframe thead th {\n",
              "        text-align: right;\n",
              "    }\n",
              "</style>\n",
              "<table border=\"1\" class=\"dataframe\">\n",
              "  <thead>\n",
              "    <tr style=\"text-align: right;\">\n",
              "      <th></th>\n",
              "      <th>Short description</th>\n",
              "      <th>Description</th>\n",
              "      <th>Caller</th>\n",
              "      <th>Assignment group</th>\n",
              "    </tr>\n",
              "  </thead>\n",
              "  <tbody>\n",
              "    <tr>\n",
              "      <th>count</th>\n",
              "      <td>8492</td>\n",
              "      <td>8499</td>\n",
              "      <td>8500</td>\n",
              "      <td>8500</td>\n",
              "    </tr>\n",
              "    <tr>\n",
              "      <th>unique</th>\n",
              "      <td>7481</td>\n",
              "      <td>7817</td>\n",
              "      <td>2950</td>\n",
              "      <td>74</td>\n",
              "    </tr>\n",
              "    <tr>\n",
              "      <th>top</th>\n",
              "      <td>password reset</td>\n",
              "      <td>the</td>\n",
              "      <td>bpctwhsn kzqsbmtp</td>\n",
              "      <td>GRP_0</td>\n",
              "    </tr>\n",
              "    <tr>\n",
              "      <th>freq</th>\n",
              "      <td>38</td>\n",
              "      <td>56</td>\n",
              "      <td>810</td>\n",
              "      <td>3976</td>\n",
              "    </tr>\n",
              "  </tbody>\n",
              "</table>\n",
              "</div>"
            ],
            "text/plain": [
              "       Short description Description             Caller Assignment group\n",
              "count               8492        8499               8500             8500\n",
              "unique              7481        7817               2950               74\n",
              "top       password reset         the  bpctwhsn kzqsbmtp            GRP_0\n",
              "freq                  38          56                810             3976"
            ]
          },
          "metadata": {
            "tags": []
          },
          "execution_count": 15
        }
      ]
    },
    {
      "cell_type": "markdown",
      "metadata": {
        "id": "XuYB8Z2IIsuS"
      },
      "source": [
        "### Attributes Analysis\n"
      ]
    },
    {
      "cell_type": "markdown",
      "metadata": {
        "id": "sjTszqG7Mi5O"
      },
      "source": [
        "####1.Assignment group (Dependent Variable)"
      ]
    },
    {
      "cell_type": "markdown",
      "metadata": {
        "id": "cjI2rG_GNcub"
      },
      "source": [
        "* 74 distinct Assignment Group values exists\n",
        "* The data is imbalanced as GRP_0 tickets are 46.8% of total number of tickets\n",
        "* Rest of the group have less than 10% of total number of tickets\n"
      ]
    },
    {
      "cell_type": "code",
      "metadata": {
        "colab": {
          "base_uri": "https://localhost:8080/",
          "height": 419
        },
        "id": "P9uFZJK6JXqK",
        "outputId": "dd7a99d4-5569-4e6a-dd11-7da472ea15ca"
      },
      "source": [
        "AG_value_counts=dataset['Assignment group'].value_counts().reset_index()\n",
        "AG_value_counts"
      ],
      "execution_count": null,
      "outputs": [
        {
          "output_type": "execute_result",
          "data": {
            "text/html": [
              "<div>\n",
              "<style scoped>\n",
              "    .dataframe tbody tr th:only-of-type {\n",
              "        vertical-align: middle;\n",
              "    }\n",
              "\n",
              "    .dataframe tbody tr th {\n",
              "        vertical-align: top;\n",
              "    }\n",
              "\n",
              "    .dataframe thead th {\n",
              "        text-align: right;\n",
              "    }\n",
              "</style>\n",
              "<table border=\"1\" class=\"dataframe\">\n",
              "  <thead>\n",
              "    <tr style=\"text-align: right;\">\n",
              "      <th></th>\n",
              "      <th>index</th>\n",
              "      <th>Assignment group</th>\n",
              "    </tr>\n",
              "  </thead>\n",
              "  <tbody>\n",
              "    <tr>\n",
              "      <th>0</th>\n",
              "      <td>GRP_0</td>\n",
              "      <td>3976</td>\n",
              "    </tr>\n",
              "    <tr>\n",
              "      <th>1</th>\n",
              "      <td>GRP_8</td>\n",
              "      <td>661</td>\n",
              "    </tr>\n",
              "    <tr>\n",
              "      <th>2</th>\n",
              "      <td>GRP_24</td>\n",
              "      <td>289</td>\n",
              "    </tr>\n",
              "    <tr>\n",
              "      <th>3</th>\n",
              "      <td>GRP_12</td>\n",
              "      <td>257</td>\n",
              "    </tr>\n",
              "    <tr>\n",
              "      <th>4</th>\n",
              "      <td>GRP_9</td>\n",
              "      <td>252</td>\n",
              "    </tr>\n",
              "    <tr>\n",
              "      <th>...</th>\n",
              "      <td>...</td>\n",
              "      <td>...</td>\n",
              "    </tr>\n",
              "    <tr>\n",
              "      <th>69</th>\n",
              "      <td>GRP_64</td>\n",
              "      <td>1</td>\n",
              "    </tr>\n",
              "    <tr>\n",
              "      <th>70</th>\n",
              "      <td>GRP_35</td>\n",
              "      <td>1</td>\n",
              "    </tr>\n",
              "    <tr>\n",
              "      <th>71</th>\n",
              "      <td>GRP_67</td>\n",
              "      <td>1</td>\n",
              "    </tr>\n",
              "    <tr>\n",
              "      <th>72</th>\n",
              "      <td>GRP_73</td>\n",
              "      <td>1</td>\n",
              "    </tr>\n",
              "    <tr>\n",
              "      <th>73</th>\n",
              "      <td>GRP_70</td>\n",
              "      <td>1</td>\n",
              "    </tr>\n",
              "  </tbody>\n",
              "</table>\n",
              "<p>74 rows × 2 columns</p>\n",
              "</div>"
            ],
            "text/plain": [
              "     index  Assignment group\n",
              "0    GRP_0              3976\n",
              "1    GRP_8               661\n",
              "2   GRP_24               289\n",
              "3   GRP_12               257\n",
              "4    GRP_9               252\n",
              "..     ...               ...\n",
              "69  GRP_64                 1\n",
              "70  GRP_35                 1\n",
              "71  GRP_67                 1\n",
              "72  GRP_73                 1\n",
              "73  GRP_70                 1\n",
              "\n",
              "[74 rows x 2 columns]"
            ]
          },
          "metadata": {
            "tags": []
          },
          "execution_count": 16
        }
      ]
    },
    {
      "cell_type": "markdown",
      "metadata": {
        "id": "-iwkt70d9dUq"
      },
      "source": [
        "#### @To-Do Observations\n",
        "* 1. Class imbalance - Human error/accurate\n",
        "* 2. Implications - Model Imbalances might impact the model \n",
        "* 3. Identify models which are less impacted by class imbalances\n",
        "* 4. Identify solutions for class Imbalances\n",
        "* 5. Hurestics ... identify data in Group 0 which is unique to the group .. can be used to split the dataset"
      ]
    },
    {
      "cell_type": "code",
      "metadata": {
        "colab": {
          "base_uri": "https://localhost:8080/",
          "height": 398
        },
        "id": "kr8-4J2BS5n8",
        "outputId": "f4ae41a0-b372-42a3-a1d0-40ed5b074dbf"
      },
      "source": [
        "\n",
        "plt.subplots(figsize = (20,5))\n",
        "\n",
        "sns.countplot(x='Assignment group', data=dataset,order = dataset['Assignment group'].value_counts().index)\n",
        "plt.xlabel('Assignment Group') \n",
        "plt.ylabel('Count') \n",
        "#plt.annotate()\n",
        "# Check for Annotate command to add total counts on top of the graph\n",
        "plt.xticks(rotation=90)\n",
        "plt.title('Tickets Distribution')\n",
        "\n",
        "plt.show()"
      ],
      "execution_count": null,
      "outputs": [
        {
          "output_type": "display_data",
          "data": {
            "image/png": "[encoded data removed]",
            "text/plain": [
              "<Figure size 1440x360 with 1 Axes>"
            ]
          },
          "metadata": {
            "tags": [],
            "needs_background": "light"
          }
        }
      ]
    },
    {
      "cell_type": "code",
      "metadata": {
        "colab": {
          "base_uri": "https://localhost:8080/",
          "height": 308
        },
        "id": "zubpFcnlUcGs",
        "outputId": "83f4f682-a6ac-4ed1-bddb-a9ba51b54dca"
      },
      "source": [
        "\n",
        "\n",
        "# Pie chart\n",
        "labels = AG_value_counts['index']\n",
        "sizes = AG_value_counts['Assignment group']\n",
        "fig1, ax1 = plt.subplots()\n",
        "ax1.pie(sizes,  labels=labels, autopct='%1.1f%%',\n",
        "        shadow=True, startangle=90)\n",
        "\n",
        "ax1.axis('equal')  \n",
        "plt.tight_layout()\n",
        "plt.show()"
      ],
      "execution_count": null,
      "outputs": [
        {
          "output_type": "display_data",
          "data": {
            "image/png": "[encoded data removed]",
            "text/plain": [
              "<Figure size 432x288 with 1 Axes>"
            ]
          },
          "metadata": {
            "tags": []
          }
        }
      ]
    },
    {
      "cell_type": "code",
      "metadata": {
        "id": "h4gLtwAbxmNI"
      },
      "source": [
        "#@RannSingh to add Tree Map in place of pie chart"
      ],
      "execution_count": null,
      "outputs": []
    },
    {
      "cell_type": "markdown",
      "metadata": {
        "id": "hqicyWyfRqXc"
      },
      "source": [
        "Assignment group values with count<=1"
      ]
    },
    {
      "cell_type": "code",
      "metadata": {
        "colab": {
          "base_uri": "https://localhost:8080/",
          "height": 235
        },
        "id": "DhGlmIqdRpeu",
        "outputId": "a9862445-1b27-46b0-8321-94b3705b466f"
      },
      "source": [
        "AG_value_counts[AG_value_counts['Assignment group']==1].reset_index(drop=True)"
      ],
      "execution_count": null,
      "outputs": [
        {
          "output_type": "execute_result",
          "data": {
            "text/html": [
              "<div>\n",
              "<style scoped>\n",
              "    .dataframe tbody tr th:only-of-type {\n",
              "        vertical-align: middle;\n",
              "    }\n",
              "\n",
              "    .dataframe tbody tr th {\n",
              "        vertical-align: top;\n",
              "    }\n",
              "\n",
              "    .dataframe thead th {\n",
              "        text-align: right;\n",
              "    }\n",
              "</style>\n",
              "<table border=\"1\" class=\"dataframe\">\n",
              "  <thead>\n",
              "    <tr style=\"text-align: right;\">\n",
              "      <th></th>\n",
              "      <th>index</th>\n",
              "      <th>Assignment group</th>\n",
              "    </tr>\n",
              "  </thead>\n",
              "  <tbody>\n",
              "    <tr>\n",
              "      <th>0</th>\n",
              "      <td>GRP_61</td>\n",
              "      <td>1</td>\n",
              "    </tr>\n",
              "    <tr>\n",
              "      <th>1</th>\n",
              "      <td>GRP_64</td>\n",
              "      <td>1</td>\n",
              "    </tr>\n",
              "    <tr>\n",
              "      <th>2</th>\n",
              "      <td>GRP_35</td>\n",
              "      <td>1</td>\n",
              "    </tr>\n",
              "    <tr>\n",
              "      <th>3</th>\n",
              "      <td>GRP_67</td>\n",
              "      <td>1</td>\n",
              "    </tr>\n",
              "    <tr>\n",
              "      <th>4</th>\n",
              "      <td>GRP_73</td>\n",
              "      <td>1</td>\n",
              "    </tr>\n",
              "    <tr>\n",
              "      <th>5</th>\n",
              "      <td>GRP_70</td>\n",
              "      <td>1</td>\n",
              "    </tr>\n",
              "  </tbody>\n",
              "</table>\n",
              "</div>"
            ],
            "text/plain": [
              "    index  Assignment group\n",
              "0  GRP_61                 1\n",
              "1  GRP_64                 1\n",
              "2  GRP_35                 1\n",
              "3  GRP_67                 1\n",
              "4  GRP_73                 1\n",
              "5  GRP_70                 1"
            ]
          },
          "metadata": {
            "tags": []
          },
          "execution_count": 20
        }
      ]
    },
    {
      "cell_type": "markdown",
      "metadata": {
        "id": "WJAFSVQ8iJTz"
      },
      "source": [
        "56 Groups have less than 1 % of data and could be considered to be grouped together to improve the accuracy of the classification models"
      ]
    },
    {
      "cell_type": "code",
      "metadata": {
        "colab": {
          "base_uri": "https://localhost:8080/"
        },
        "id": "pQnokn13gvbj",
        "outputId": "b4eec67f-362e-4d2a-854e-a31c1da81de8"
      },
      "source": [
        "AG_value_counts=AG_value_counts.assign(Percentage=AG_value_counts['Assignment group']/len(dataset)*100)\n",
        "AG_value_counts\n",
        "print(\"Total columns with less than 10% of total tickets:\", len(AG_value_counts[AG_value_counts.Percentage<=10]))\n",
        "print(\"Total columns with less than 5% of total tickets:\", len(AG_value_counts[AG_value_counts.Percentage<=5]))\n",
        "print(\"Total columns with less than 3% of total tickets:\", len(AG_value_counts[AG_value_counts.Percentage<=3]))\n",
        "print(\"Total columns with less than 2% of total tickets:\", len(AG_value_counts[AG_value_counts.Percentage<=2]))\n",
        "print(\"Total columns with less than 1% of total tickets:\", len(AG_value_counts[AG_value_counts.Percentage<=1]))"
      ],
      "execution_count": null,
      "outputs": [
        {
          "output_type": "stream",
          "text": [
            "Total columns with less than 10% of total tickets: 73\n",
            "Total columns with less than 5% of total tickets: 72\n",
            "Total columns with less than 3% of total tickets: 70\n",
            "Total columns with less than 2% of total tickets: 65\n",
            "Total columns with less than 1% of total tickets: 56\n"
          ],
          "name": "stdout"
        }
      ]
    },
    {
      "cell_type": "markdown",
      "metadata": {
        "id": "2Dx3ThYqgmt1"
      },
      "source": [
        "##### Drop Duplicates and Add detailed analysis (Add description)"
      ]
    },
    {
      "cell_type": "code",
      "metadata": {
        "id": "x3VAaNSfgrKV"
      },
      "source": [
        "# Remove True Duplicates\n",
        "dataset = df.drop_duplicates(['Short description', 'Description', 'Caller', 'Assignment group'])"
      ],
      "execution_count": null,
      "outputs": []
    },
    {
      "cell_type": "code",
      "metadata": {
        "id": "Ad-Qj49khXeD"
      },
      "source": [
        "plt.subplots(figsize = (20,5))\n",
        "\n",
        "sns.countplot(x='Assignment group', data=dataset,order = dataset['Assignment group'].value_counts().index)\n",
        "plt.xlabel('Assignment Group') \n",
        "plt.ylabel('Count') \n",
        "plt.xticks(rotation=90)\n",
        "plt.title('Tickets Distribution')\n",
        "\n",
        "plt.show()"
      ],
      "execution_count": null,
      "outputs": []
    },
    {
      "cell_type": "markdown",
      "metadata": {
        "id": "cCoQsXfOf5qA"
      },
      "source": [
        "##### Group GRP_0 Analysis\n"
      ]
    },
    {
      "cell_type": "markdown",
      "metadata": {
        "id": "442zLqB4mJUp"
      },
      "source": [
        "From the Analysis we can infer that the GRP_0 largely contains tickets related to password,account and access requests\n"
      ]
    },
    {
      "cell_type": "code",
      "metadata": {
        "colab": {
          "base_uri": "https://localhost:8080/"
        },
        "id": "_4QypDlL6zPj",
        "outputId": "0324ae75-4c8e-4885-a8c7-9fe15c35ec9b"
      },
      "source": [
        "dataset[dataset['Assignment group']=='GRP_0']['Short description'].value_counts()"
      ],
      "execution_count": null,
      "outputs": [
        {
          "output_type": "execute_result",
          "data": {
            "text/plain": [
              "password reset                            38\n",
              "windows password reset                    29\n",
              "account locked in ad                      24\n",
              "windows account locked                    23\n",
              "erp SID_34 account unlock                 19\n",
              "                                          ..\n",
              "locked out of password_management_tool     1\n",
              "inc1541133 - ticket update                 1\n",
              "telecom_vendor_2 card is not working       1\n",
              "ticket update on ticket_no0448515          1\n",
              "mail access in mobile                      1\n",
              "Name: Short description, Length: 3201, dtype: int64"
            ]
          },
          "metadata": {
            "tags": []
          },
          "execution_count": 241
        }
      ]
    },
    {
      "cell_type": "code",
      "metadata": {
        "id": "lvQuL_4UkQGv"
      },
      "source": [
        "uni=dataset[dataset['Assignment group']=='GRP_0']['Short description'].unique()"
      ],
      "execution_count": null,
      "outputs": []
    },
    {
      "cell_type": "code",
      "metadata": {
        "colab": {
          "base_uri": "https://localhost:8080/"
        },
        "id": "2YCHzjJckw-e",
        "outputId": "667bf14f-0b62-48b6-b38d-5674e7bb079d"
      },
      "source": [
        "dataset[dataset['Short description'].fillna('').isin(uni)]['Assignment group'].value_counts()"
      ],
      "execution_count": null,
      "outputs": [
        {
          "output_type": "execute_result",
          "data": {
            "text/plain": [
              "GRP_0     3969\n",
              "GRP_3        7\n",
              "GRP_19       6\n",
              "GRP_2        5\n",
              "GRP_14       4\n",
              "GRP_23       4\n",
              "GRP_16       4\n",
              "GRP_27       3\n",
              "GRP_33       3\n",
              "GRP_9        2\n",
              "GRP_12       2\n",
              "GRP_13       2\n",
              "GRP_4        2\n",
              "GRP_34       2\n",
              "GRP_22       2\n",
              "GRP_18       2\n",
              "GRP_15       2\n",
              "GRP_53       2\n",
              "GRP_41       2\n",
              "GRP_65       2\n",
              "GRP_45       1\n",
              "GRP_8        1\n",
              "GRP_40       1\n",
              "GRP_28       1\n",
              "GRP_72       1\n",
              "GRP_36       1\n",
              "GRP_11       1\n",
              "GRP_6        1\n",
              "GRP_59       1\n",
              "GRP_29       1\n",
              "GRP_25       1\n",
              "GRP_21       1\n",
              "GRP_62       1\n",
              "GRP_50       1\n",
              "GRP_26       1\n",
              "Name: Assignment group, dtype: int64"
            ]
          },
          "metadata": {
            "tags": []
          },
          "execution_count": 24
        }
      ]
    },
    {
      "cell_type": "markdown",
      "metadata": {
        "id": "PLTz79nueFxM"
      },
      "source": [
        "##### Group 1-74 Analysis"
      ]
    },
    {
      "cell_type": "markdown",
      "metadata": {
        "id": "38N2RwsoE7ds"
      },
      "source": [
        "##### @To Do $Purnendu (4) - L1,L2, L3 Hypothesis\n",
        "*- use Huriestics ,check for levels"
      ]
    },
    {
      "cell_type": "markdown",
      "metadata": {
        "id": "pSmreWe3ePms"
      },
      "source": [
        "##### @TO DO $Sid (3)- Add TFID for each group, get context of each group . Plot graph exculding group 0."
      ]
    },
    {
      "cell_type": "code",
      "metadata": {
        "id": "57DOsvKr0axc"
      },
      "source": [
        ""
      ],
      "execution_count": null,
      "outputs": []
    },
    {
      "cell_type": "code",
      "metadata": {
        "id": "R62vCMf7eQBM"
      },
      "source": [
        "#TO DO"
      ],
      "execution_count": null,
      "outputs": []
    },
    {
      "cell_type": "markdown",
      "metadata": {
        "id": "_BN2yHv1pEwf"
      },
      "source": [
        "####2.Short Description"
      ]
    },
    {
      "cell_type": "markdown",
      "metadata": {
        "id": "C0yO_488emFl"
      },
      "source": [
        "#####Distinct Values and Nulls"
      ]
    },
    {
      "cell_type": "code",
      "metadata": {
        "colab": {
          "base_uri": "https://localhost:8080/"
        },
        "id": "4jqpNKQ4ek-6",
        "outputId": "0a288dbc-5efc-44e4-d7a9-29707ce0a499"
      },
      "source": [
        "SD_value_counts=dataset['Short description'].value_counts()\n",
        "SD_value_counts"
      ],
      "execution_count": null,
      "outputs": [
        {
          "output_type": "execute_result",
          "data": {
            "text/plain": [
              "password reset                                                    38\n",
              "windows password reset                                            29\n",
              "account locked in ad                                              24\n",
              "windows account locked                                            23\n",
              "erp SID_34 account unlock                                         19\n",
              "                                                                  ..\n",
              "battery at warning status                                          1\n",
              "issues with pdf viewer on iphone for davidthd                      1\n",
              "blank call // gso loud noise                                       1\n",
              "mail address of cytohwau qfunricw at ticketing_tool is missing     1\n",
              "po error language                                                  1\n",
              "Name: Short description, Length: 7481, dtype: int64"
            ]
          },
          "metadata": {
            "tags": []
          },
          "execution_count": 28
        }
      ]
    },
    {
      "cell_type": "markdown",
      "metadata": {
        "id": "xLUFU8ROpoxe"
      },
      "source": [
        "Nulls in 'Short description'"
      ]
    },
    {
      "cell_type": "code",
      "metadata": {
        "colab": {
          "base_uri": "https://localhost:8080/",
          "height": 297
        },
        "id": "eI8Do7Izebwx",
        "outputId": "db4fcbf5-5666-4dd2-e0dd-0dbc736471d4"
      },
      "source": [
        "dataset[dataset['Short description'].isna()]"
      ],
      "execution_count": null,
      "outputs": [
        {
          "output_type": "execute_result",
          "data": {
            "text/html": [
              "<div>\n",
              "<style scoped>\n",
              "    .dataframe tbody tr th:only-of-type {\n",
              "        vertical-align: middle;\n",
              "    }\n",
              "\n",
              "    .dataframe tbody tr th {\n",
              "        vertical-align: top;\n",
              "    }\n",
              "\n",
              "    .dataframe thead th {\n",
              "        text-align: right;\n",
              "    }\n",
              "</style>\n",
              "<table border=\"1\" class=\"dataframe\">\n",
              "  <thead>\n",
              "    <tr style=\"text-align: right;\">\n",
              "      <th></th>\n",
              "      <th>Short description</th>\n",
              "      <th>Description</th>\n",
              "      <th>Caller</th>\n",
              "      <th>Assignment group</th>\n",
              "    </tr>\n",
              "  </thead>\n",
              "  <tbody>\n",
              "    <tr>\n",
              "      <th>2604</th>\n",
              "      <td>NaN</td>\n",
              "      <td>\\r\\n\\r\\nreceived from: ohdrnswl.rezuibdt@gmail...</td>\n",
              "      <td>ohdrnswl rezuibdt</td>\n",
              "      <td>GRP_34</td>\n",
              "    </tr>\n",
              "    <tr>\n",
              "      <th>3383</th>\n",
              "      <td>NaN</td>\n",
              "      <td>\\r\\n-connected to the user system using teamvi...</td>\n",
              "      <td>qftpazns fxpnytmk</td>\n",
              "      <td>GRP_0</td>\n",
              "    </tr>\n",
              "    <tr>\n",
              "      <th>3906</th>\n",
              "      <td>NaN</td>\n",
              "      <td>-user unable  tologin to vpn.\\r\\n-connected to...</td>\n",
              "      <td>awpcmsey ctdiuqwe</td>\n",
              "      <td>GRP_0</td>\n",
              "    </tr>\n",
              "    <tr>\n",
              "      <th>3910</th>\n",
              "      <td>NaN</td>\n",
              "      <td>-user unable  tologin to vpn.\\r\\n-connected to...</td>\n",
              "      <td>rhwsmefo tvphyura</td>\n",
              "      <td>GRP_0</td>\n",
              "    </tr>\n",
              "    <tr>\n",
              "      <th>3915</th>\n",
              "      <td>NaN</td>\n",
              "      <td>-user unable  tologin to vpn.\\r\\n-connected to...</td>\n",
              "      <td>hxripljo efzounig</td>\n",
              "      <td>GRP_0</td>\n",
              "    </tr>\n",
              "    <tr>\n",
              "      <th>3921</th>\n",
              "      <td>NaN</td>\n",
              "      <td>-user unable  tologin to vpn.\\r\\n-connected to...</td>\n",
              "      <td>cziadygo veiosxby</td>\n",
              "      <td>GRP_0</td>\n",
              "    </tr>\n",
              "    <tr>\n",
              "      <th>3924</th>\n",
              "      <td>NaN</td>\n",
              "      <td>name:wvqgbdhm fwchqjor\\nlanguage:\\nbrowser:mic...</td>\n",
              "      <td>wvqgbdhm fwchqjor</td>\n",
              "      <td>GRP_0</td>\n",
              "    </tr>\n",
              "    <tr>\n",
              "      <th>4341</th>\n",
              "      <td>NaN</td>\n",
              "      <td>\\r\\n\\r\\nreceived from: eqmuniov.ehxkcbgj@gmail...</td>\n",
              "      <td>eqmuniov ehxkcbgj</td>\n",
              "      <td>GRP_0</td>\n",
              "    </tr>\n",
              "  </tbody>\n",
              "</table>\n",
              "</div>"
            ],
            "text/plain": [
              "     Short description  ... Assignment group\n",
              "2604               NaN  ...           GRP_34\n",
              "3383               NaN  ...            GRP_0\n",
              "3906               NaN  ...            GRP_0\n",
              "3910               NaN  ...            GRP_0\n",
              "3915               NaN  ...            GRP_0\n",
              "3921               NaN  ...            GRP_0\n",
              "3924               NaN  ...            GRP_0\n",
              "4341               NaN  ...            GRP_0\n",
              "\n",
              "[8 rows x 4 columns]"
            ]
          },
          "metadata": {
            "tags": []
          },
          "execution_count": 29
        }
      ]
    },
    {
      "cell_type": "markdown",
      "metadata": {
        "id": "ldUa_Ig5l9-T"
      },
      "source": [
        "**Null Handling Options**\n",
        "Replacing them with empty string\n",
        "Replacing them with some default values\n",
        "Duplicating the Short description and Description values wherever one of them is Null\n",
        "Dropping the records with null/missing values completely.\n",
        "We're not choosing to drop any record as we don't want to loose any information. And as we're going to concatenate the Short description and Description columns for each record while feeding them into NLP, we neither want to pollute the data by introducing any default values nor bias it by duplicating the description colomns.\n",
        "Hence our NULL/Missing value treatment replaces the NaN cells with just empty string."
      ]
    },
    {
      "cell_type": "markdown",
      "metadata": {
        "id": "4OkiO4Hxn78B"
      },
      "source": [
        "##### @To-Do $Purnendu(4) Special ,Junk Characters, use ftfy\n"
      ]
    },
    {
      "cell_type": "markdown",
      "metadata": {
        "id": "dr6gf6fqHnWu"
      },
      "source": [
        "Add Explainations "
      ]
    },
    {
      "cell_type": "code",
      "metadata": {
        "colab": {
          "base_uri": "https://localhost:8080/"
        },
        "id": "97B2ikynot60",
        "outputId": "f67af075-03f7-4f74-ab7b-9dab5de54ba2"
      },
      "source": [
        "for splChar in '!@#$%&*()_+=<>/?':\n",
        "  searchString='['+splChar+']'\n",
        "  splCharLen=len(dataset[dataset['Short description'].fillna('').str.contains(searchString)]['Short description'])\n",
        "  print(\"Total records with {} character in 'Short Description' column={}\".format(splChar,splCharLen))"
      ],
      "execution_count": null,
      "outputs": [
        {
          "output_type": "stream",
          "text": [
            "Total records with ! character in 'Short Description' column=69\n",
            "Total records with @ character in 'Short Description' column=61\n",
            "Total records with # character in 'Short Description' column=96\n",
            "Total records with $ character in 'Short Description' column=0\n",
            "Total records with % character in 'Short Description' column=93\n",
            "Total records with & character in 'Short Description' column=87\n",
            "Total records with * character in 'Short Description' column=9\n",
            "Total records with ( character in 'Short Description' column=379\n",
            "Total records with ) character in 'Short Description' column=376\n",
            "Total records with _ character in 'Short Description' column=2899\n",
            "Total records with + character in 'Short Description' column=7\n",
            "Total records with = character in 'Short Description' column=6\n",
            "Total records with < character in 'Short Description' column=8\n",
            "Total records with > character in 'Short Description' column=15\n",
            "Total records with / character in 'Short Description' column=1385\n",
            "Total records with ? character in 'Short Description' column=52\n"
          ],
          "name": "stdout"
        }
      ]
    },
    {
      "cell_type": "markdown",
      "metadata": {
        "id": "VqKTKx5Kq7jv"
      },
      "source": [
        "##### Email ids ,Server adresses, c:\\\\ drive"
      ]
    },
    {
      "cell_type": "code",
      "metadata": {
        "colab": {
          "base_uri": "https://localhost:8080/"
        },
        "id": "JFAvzVh1q1Ga",
        "outputId": "d118fa5f-8dae-47dd-d0d4-0ecee0398684"
      },
      "source": [
        "print(\"Records with EmailID's:\",len(dataset[dataset['Short description'].fillna('').str.contains('@+\\S+\\.com|@+\\S+\\.org')]['Short description'])\n",
        ")"
      ],
      "execution_count": null,
      "outputs": [
        {
          "output_type": "stream",
          "text": [
            "Records with EmailID's: 56\n"
          ],
          "name": "stdout"
        }
      ]
    },
    {
      "cell_type": "markdown",
      "metadata": {
        "id": "Zj8887FGs7Ng"
      },
      "source": [
        "#####Duplicate Values "
      ]
    },
    {
      "cell_type": "code",
      "metadata": {
        "colab": {
          "base_uri": "https://localhost:8080/"
        },
        "id": "St-5mA0dfHAd",
        "outputId": "29ca37e7-129f-412e-9d93-3b4ec681dc7f"
      },
      "source": [
        "SD_value_counts[SD_value_counts.loc[:]>1]"
      ],
      "execution_count": null,
      "outputs": [
        {
          "output_type": "execute_result",
          "data": {
            "text/plain": [
              "password reset                                                                                      38\n",
              "windows password reset                                                                              29\n",
              "account locked in ad                                                                                24\n",
              "windows account locked                                                                              23\n",
              "erp SID_34 account unlock                                                                           19\n",
              "                                                                                                    ..\n",
              "ticket update                                                                                        2\n",
              "security incidents - ( #in33505432 ) : repeat outbound connection for 135/tcp from 10.16.140.231     2\n",
              "outlook not working : crm issue                                                                      2\n",
              "user cwfzldts dlmukhyn cannot create purchasing requistions out of punch out catalogues              2\n",
              "unable to connect to network printer                                                                 2\n",
              "Name: Short description, Length: 379, dtype: int64"
            ]
          },
          "metadata": {
            "tags": []
          },
          "execution_count": 32
        }
      ]
    },
    {
      "cell_type": "markdown",
      "metadata": {
        "id": "6Ws00m8ctnEY"
      },
      "source": [
        "Since we have duplicates in 'Short description' , we found that it is not sufficient to build a model only using the 'Short description' column.\n",
        "From the below analysis it can be seen that same 'Short description' value can exist in multiple group"
      ]
    },
    {
      "cell_type": "code",
      "metadata": {
        "colab": {
          "base_uri": "https://localhost:8080/"
        },
        "id": "-I0pYDq8s5qk",
        "outputId": "3dbeeb1b-f041-440c-fda5-50ee3f058e82"
      },
      "source": [
        "ShortDescGrp0=dataset[dataset['Assignment group']=='GRP_0']['Short description'].unique()\n",
        "dataset[dataset['Short description'].fillna('').isin(ShortDescGrp0)]['Assignment group'].value_counts()"
      ],
      "execution_count": null,
      "outputs": [
        {
          "output_type": "execute_result",
          "data": {
            "text/plain": [
              "GRP_0     3969\n",
              "GRP_3        7\n",
              "GRP_19       6\n",
              "GRP_2        5\n",
              "GRP_14       4\n",
              "GRP_23       4\n",
              "GRP_16       4\n",
              "GRP_27       3\n",
              "GRP_33       3\n",
              "GRP_9        2\n",
              "GRP_12       2\n",
              "GRP_13       2\n",
              "GRP_4        2\n",
              "GRP_34       2\n",
              "GRP_22       2\n",
              "GRP_18       2\n",
              "GRP_15       2\n",
              "GRP_53       2\n",
              "GRP_41       2\n",
              "GRP_65       2\n",
              "GRP_45       1\n",
              "GRP_8        1\n",
              "GRP_40       1\n",
              "GRP_28       1\n",
              "GRP_72       1\n",
              "GRP_36       1\n",
              "GRP_11       1\n",
              "GRP_6        1\n",
              "GRP_59       1\n",
              "GRP_29       1\n",
              "GRP_25       1\n",
              "GRP_21       1\n",
              "GRP_62       1\n",
              "GRP_50       1\n",
              "GRP_26       1\n",
              "Name: Assignment group, dtype: int64"
            ]
          },
          "metadata": {
            "tags": []
          },
          "execution_count": 33
        }
      ]
    },
    {
      "cell_type": "code",
      "metadata": {
        "id": "aoAFxjz9zH9T"
      },
      "source": [
        ""
      ],
      "execution_count": null,
      "outputs": []
    },
    {
      "cell_type": "code",
      "metadata": {
        "id": "HM4hyiof2xnG"
      },
      "source": [
        ""
      ],
      "execution_count": null,
      "outputs": []
    },
    {
      "cell_type": "markdown",
      "metadata": {
        "id": "vUw9ZHxs29Ex"
      },
      "source": [
        "####2.Description"
      ]
    },
    {
      "cell_type": "markdown",
      "metadata": {
        "id": "x-s7jzT729Ey"
      },
      "source": [
        "#####Distinct Values and Nulls"
      ]
    },
    {
      "cell_type": "code",
      "metadata": {
        "colab": {
          "base_uri": "https://localhost:8080/"
        },
        "id": "yIk5mdKn29Ez",
        "outputId": "812c78d4-a7f3-4c4b-abca-0bc57f37dcf3"
      },
      "source": [
        "D_value_counts=dataset['Description'].str.replace('\\r|\\n','').value_counts()\n",
        "D_value_counts"
      ],
      "execution_count": null,
      "outputs": [
        {
          "output_type": "execute_result",
          "data": {
            "text/plain": [
              "the                                                                                                                                                                        56\n",
              "windows password reset                                                                                                                                                     29\n",
              "password reset                                                                                                                                                             26\n",
              "account locked in ad                                                                                                                                                       23\n",
              "windows account locked                                                                                                                                                     23\n",
              "                                                                                                                                                                           ..\n",
              "ooo until 5/oct/received from: zxobmreq.udikorhv@gmail.comneed access to \\\\HostName_771\\teams\\materials<file:///\\\\HostName_771\\teams\\materials>, on my computer system.     1\n",
              "need vpn access. new employee has a company laptop. emzlw800043                                                                                                             1\n",
              "the ribbon in advanced find is displaced making it difficult to query the system/create views. (see attached)                                                               1\n",
              "received from: monitoring_tool@company.comjob HostName_1019fail1 failed in job_scheduler at: 08/22/2016 15:00:00                                                            1\n",
              "vip 2 // unable to access collaboration_platform                                                                                                                            1\n",
              "Name: Description, Length: 7809, dtype: int64"
            ]
          },
          "metadata": {
            "tags": []
          },
          "execution_count": 34
        }
      ]
    },
    {
      "cell_type": "markdown",
      "metadata": {
        "id": "CDaq0PP_29E0"
      },
      "source": [
        "Nulls in 'Short description'"
      ]
    },
    {
      "cell_type": "code",
      "metadata": {
        "colab": {
          "base_uri": "https://localhost:8080/",
          "height": 80
        },
        "id": "dNumFGJp29E0",
        "outputId": "45d916f5-e589-43cc-a995-ea5ed074fb15"
      },
      "source": [
        "dataset[dataset['Description'].isna()]"
      ],
      "execution_count": null,
      "outputs": [
        {
          "output_type": "execute_result",
          "data": {
            "text/html": [
              "<div>\n",
              "<style scoped>\n",
              "    .dataframe tbody tr th:only-of-type {\n",
              "        vertical-align: middle;\n",
              "    }\n",
              "\n",
              "    .dataframe tbody tr th {\n",
              "        vertical-align: top;\n",
              "    }\n",
              "\n",
              "    .dataframe thead th {\n",
              "        text-align: right;\n",
              "    }\n",
              "</style>\n",
              "<table border=\"1\" class=\"dataframe\">\n",
              "  <thead>\n",
              "    <tr style=\"text-align: right;\">\n",
              "      <th></th>\n",
              "      <th>Short description</th>\n",
              "      <th>Description</th>\n",
              "      <th>Caller</th>\n",
              "      <th>Assignment group</th>\n",
              "    </tr>\n",
              "  </thead>\n",
              "  <tbody>\n",
              "    <tr>\n",
              "      <th>4395</th>\n",
              "      <td>i am locked out of skype</td>\n",
              "      <td>NaN</td>\n",
              "      <td>viyglzfo ajtfzpkb</td>\n",
              "      <td>GRP_0</td>\n",
              "    </tr>\n",
              "  </tbody>\n",
              "</table>\n",
              "</div>"
            ],
            "text/plain": [
              "             Short description Description             Caller Assignment group\n",
              "4395  i am locked out of skype         NaN  viyglzfo ajtfzpkb            GRP_0"
            ]
          },
          "metadata": {
            "tags": []
          },
          "execution_count": 35
        }
      ]
    },
    {
      "cell_type": "code",
      "metadata": {
        "colab": {
          "base_uri": "https://localhost:8080/",
          "height": 49
        },
        "id": "IDBswdYfYQ3H",
        "outputId": "26032034-be66-4a30-ab71-c97ede0903fa"
      },
      "source": [
        "dataset[dataset['Description']=='']"
      ],
      "execution_count": null,
      "outputs": [
        {
          "output_type": "execute_result",
          "data": {
            "text/html": [
              "<div>\n",
              "<style scoped>\n",
              "    .dataframe tbody tr th:only-of-type {\n",
              "        vertical-align: middle;\n",
              "    }\n",
              "\n",
              "    .dataframe tbody tr th {\n",
              "        vertical-align: top;\n",
              "    }\n",
              "\n",
              "    .dataframe thead th {\n",
              "        text-align: right;\n",
              "    }\n",
              "</style>\n",
              "<table border=\"1\" class=\"dataframe\">\n",
              "  <thead>\n",
              "    <tr style=\"text-align: right;\">\n",
              "      <th></th>\n",
              "      <th>Short description</th>\n",
              "      <th>Description</th>\n",
              "      <th>Caller</th>\n",
              "      <th>Assignment group</th>\n",
              "    </tr>\n",
              "  </thead>\n",
              "  <tbody>\n",
              "  </tbody>\n",
              "</table>\n",
              "</div>"
            ],
            "text/plain": [
              "Empty DataFrame\n",
              "Columns: [Short description, Description, Caller, Assignment group]\n",
              "Index: []"
            ]
          },
          "metadata": {
            "tags": []
          },
          "execution_count": 107
        }
      ]
    },
    {
      "cell_type": "markdown",
      "metadata": {
        "id": "-gyO2x9i29E0"
      },
      "source": [
        "##### Junk and Special Characters\n"
      ]
    },
    {
      "cell_type": "code",
      "metadata": {
        "colab": {
          "base_uri": "https://localhost:8080/"
        },
        "id": "QWSQuHiL29E1",
        "outputId": "cfc4556a-f810-4fc0-f60d-8297710a2293"
      },
      "source": [
        "for splChar in '!@#$%&*()_+=<>/?-':\n",
        "  searchString='['+splChar+']'\n",
        "  splCharLen=len(dataset[dataset['Description'].fillna('').str.contains(searchString)]['Description'])\n",
        "  print(\"Total records with {} character in 'Short Description' column={}\".format(splChar,splCharLen))"
      ],
      "execution_count": null,
      "outputs": [
        {
          "output_type": "stream",
          "text": [
            "Total records with ! character in 'Short Description' column=139\n",
            "Total records with @ character in 'Short Description' column=2650\n",
            "Total records with # character in 'Short Description' column=368\n",
            "Total records with $ character in 'Short Description' column=20\n",
            "Total records with % character in 'Short Description' column=151\n",
            "Total records with & character in 'Short Description' column=242\n",
            "Total records with * character in 'Short Description' column=46\n",
            "Total records with ( character in 'Short Description' column=1051\n",
            "Total records with ) character in 'Short Description' column=1057\n",
            "Total records with _ character in 'Short Description' column=3385\n",
            "Total records with + character in 'Short Description' column=72\n",
            "Total records with = character in 'Short Description' column=116\n",
            "Total records with < character in 'Short Description' column=295\n",
            "Total records with > character in 'Short Description' column=353\n",
            "Total records with / character in 'Short Description' column=1927\n",
            "Total records with ? character in 'Short Description' column=743\n",
            "Total records with - character in 'Short Description' column=1480\n"
          ],
          "name": "stdout"
        }
      ]
    },
    {
      "cell_type": "markdown",
      "metadata": {
        "id": "4He77wormlPF"
      },
      "source": [
        "###### @To Do $Purnendu (5): Handle Junk Characters in the dataset.Research ftfy to fix the text"
      ]
    },
    {
      "cell_type": "code",
      "metadata": {
        "colab": {
          "base_uri": "https://localhost:8080/",
          "height": 130
        },
        "id": "m9J5Hsc8zC-d",
        "outputId": "f53c078c-9b3e-4460-c1c9-e99ac09249ee"
      },
      "source": [
        "for i in list(range(0,len(dataset))):\n",
        "  pattern=re.compile('[\\d/-+]+$')\n",
        "  if bool"
      ],
      "execution_count": null,
      "outputs": [
        {
          "output_type": "error",
          "ename": "SyntaxError",
          "evalue": "ignored",
          "traceback": [
            "\u001b[0;36m  File \u001b[0;32m\"<ipython-input-223-d7bce9dde3db>\"\u001b[0;36m, line \u001b[0;32m3\u001b[0m\n\u001b[0;31m    if bool\u001b[0m\n\u001b[0m           ^\u001b[0m\n\u001b[0;31mSyntaxError\u001b[0m\u001b[0;31m:\u001b[0m invalid syntax\n"
          ]
        }
      ]
    },
    {
      "cell_type": "markdown",
      "metadata": {
        "id": "VEeZD5wL29E1"
      },
      "source": [
        "##### Email ids ,Websites, Servers Addresses and Numbers \n",
        "-exists in the data set which might have to be replaced or removed from the vocabulory"
      ]
    },
    {
      "cell_type": "markdown",
      "metadata": {
        "id": "8LQdoW2-3kwF"
      },
      "source": [
        "Email IDs:"
      ]
    },
    {
      "cell_type": "code",
      "metadata": {
        "colab": {
          "base_uri": "https://localhost:8080/"
        },
        "id": "ebONy27Q29E1",
        "outputId": "e8b7ddd2-ed7e-4364-99a0-15ba6650977b"
      },
      "source": [
        "print(\"Records with EmailID's:\",len(dataset[dataset['Description'].fillna('').str.contains('@+\\S+\\.com|@+\\S+\\.org')]['Description']))"
      ],
      "execution_count": null,
      "outputs": [
        {
          "output_type": "stream",
          "text": [
            "Records with EmailID's: 2627\n"
          ],
          "name": "stdout"
        }
      ]
    },
    {
      "cell_type": "markdown",
      "metadata": {
        "id": "jkspocqH3okQ"
      },
      "source": [
        "Websites"
      ]
    },
    {
      "cell_type": "code",
      "metadata": {
        "colab": {
          "base_uri": "https://localhost:8080/"
        },
        "id": "MT4QCSG63rKY",
        "outputId": "5495e9a0-600b-487a-bf3f-349b67f5cd69"
      },
      "source": [
        "print(\"Records with websites's:\",len(dataset[dataset['Description'].fillna('').str.contains('www\\.+\\S+\\.com|www\\.+\\S+\\.org|http+\\.+\\S')]['Description']))"
      ],
      "execution_count": null,
      "outputs": [
        {
          "output_type": "stream",
          "text": [
            "Records with websites's: 25\n"
          ],
          "name": "stdout"
        }
      ]
    },
    {
      "cell_type": "markdown",
      "metadata": {
        "id": "h1Dzc6Rd29E2"
      },
      "source": [
        "#####Duplicate Values "
      ]
    },
    {
      "cell_type": "code",
      "metadata": {
        "colab": {
          "base_uri": "https://localhost:8080/"
        },
        "id": "Oga8r6m429E2",
        "outputId": "fc80ac37-dd23-4056-eeb6-bc54fb99cbb2"
      },
      "source": [
        "D_value_counts[D_value_counts.loc[:]>1]"
      ],
      "execution_count": null,
      "outputs": [
        {
          "output_type": "execute_result",
          "data": {
            "text/plain": [
              "the                                                                                                                                                                                                                                                         56\n",
              "windows password reset                                                                                                                                                                                                                                      29\n",
              "password reset                                                                                                                                                                                                                                              26\n",
              "account locked in ad                                                                                                                                                                                                                                        23\n",
              "windows account locked                                                                                                                                                                                                                                      23\n",
              "                                                                                                                                                                                                                                                            ..\n",
              "unable to login to erp SID_34                                                                                                                                                                                                                                2\n",
              "probleme mit erpgui \\vsdtxwry ngkcdjye                                                                                                                                                                                                                       2\n",
              "need to configure printers                                                                                                                                                                                                                                   2\n",
              "account is locked                                                                                                                                                                                                                                            2\n",
              "from: nwfodmhc exurcwkm sent: monday, august 22, 2016 3:21 pmto: bmhxwvys tdmgolwncc: tiyhum kuyiomarsubject: re: sabrthy request to reset microsoft online services password for bmhxwvys.tdmgolwn@gmail.comhi suhrhtyju,please reset your password in      2\n",
              "Name: Description, Length: 202, dtype: int64"
            ]
          },
          "metadata": {
            "tags": []
          },
          "execution_count": 39
        }
      ]
    },
    {
      "cell_type": "markdown",
      "metadata": {
        "id": "GgiiLuq129E2"
      },
      "source": [
        "Since we have duplicates in 'Description' , we found that it is not sufficient to build a model only using the 'Description' column for 100% accuracy.\n",
        "From the below analysis it can be seen that same 'Short description' value can exist in multiple group"
      ]
    },
    {
      "cell_type": "code",
      "metadata": {
        "id": "u3rWasfQ29E2"
      },
      "source": [
        "DescGrp0=dataset[dataset['Assignment group']=='GRP_0']['Description'].str.replace('\\\\r\\\\n','').unique()\n",
        "\n",
        "\n"
      ],
      "execution_count": null,
      "outputs": []
    },
    {
      "cell_type": "code",
      "metadata": {
        "colab": {
          "base_uri": "https://localhost:8080/",
          "height": 545
        },
        "id": "yEokfjf729E3",
        "outputId": "a3eb24ca-60a3-4f08-a83d-554f601a720c"
      },
      "source": [
        "dataset[(dataset['Description'].str.replace('\\\\r\\\\n','').fillna('').isin(DescGrp0))&(dataset['Assignment group']!='GRP_0')]"
      ],
      "execution_count": null,
      "outputs": [
        {
          "output_type": "execute_result",
          "data": {
            "text/html": [
              "<div>\n",
              "<style scoped>\n",
              "    .dataframe tbody tr th:only-of-type {\n",
              "        vertical-align: middle;\n",
              "    }\n",
              "\n",
              "    .dataframe tbody tr th {\n",
              "        vertical-align: top;\n",
              "    }\n",
              "\n",
              "    .dataframe thead th {\n",
              "        text-align: right;\n",
              "    }\n",
              "</style>\n",
              "<table border=\"1\" class=\"dataframe\">\n",
              "  <thead>\n",
              "    <tr style=\"text-align: right;\">\n",
              "      <th></th>\n",
              "      <th>Short description</th>\n",
              "      <th>Description</th>\n",
              "      <th>Caller</th>\n",
              "      <th>Assignment group</th>\n",
              "    </tr>\n",
              "  </thead>\n",
              "  <tbody>\n",
              "    <tr>\n",
              "      <th>181</th>\n",
              "      <td>unable to connect to vpn</td>\n",
              "      <td>unable to connect to vpn</td>\n",
              "      <td>aljbtwsh lepkbgix</td>\n",
              "      <td>GRP_19</td>\n",
              "    </tr>\n",
              "    <tr>\n",
              "      <th>605</th>\n",
              "      <td>material type \"nd\"  doesn Â´t create any requr...</td>\n",
              "      <td>\\r\\n\\r\\nreceived from: qbewrpfu.lwibmxzo@gmail...</td>\n",
              "      <td>qbewrpfu lwibmxzo</td>\n",
              "      <td>GRP_13</td>\n",
              "    </tr>\n",
              "    <tr>\n",
              "      <th>621</th>\n",
              "      <td>uacyltoe hxgaycze ignore</td>\n",
              "      <td>uacyltoe hxgaycze</td>\n",
              "      <td>jloygrwh acvztedi</td>\n",
              "      <td>GRP_36</td>\n",
              "    </tr>\n",
              "    <tr>\n",
              "      <th>1300</th>\n",
              "      <td>cannot review stock at mdw04 // mm 6720004</td>\n",
              "      <td>\\r\\n\\r\\nreceived from: aqrhwjgo.cyelqkvs@gmail...</td>\n",
              "      <td>aqrhwjgo cyelqkvs</td>\n",
              "      <td>GRP_6</td>\n",
              "    </tr>\n",
              "    <tr>\n",
              "      <th>1708</th>\n",
              "      <td>no power on the laptop</td>\n",
              "      <td>no power on the laptop</td>\n",
              "      <td>khrflgcj zxojidhe</td>\n",
              "      <td>GRP_3</td>\n",
              "    </tr>\n",
              "    <tr>\n",
              "      <th>2045</th>\n",
              "      <td>uacyltoe hxgaycze</td>\n",
              "      <td>uacyltoe hxgaycze</td>\n",
              "      <td>xweclugf qmhbjsyi</td>\n",
              "      <td>GRP_12</td>\n",
              "    </tr>\n",
              "    <tr>\n",
              "      <th>2070</th>\n",
              "      <td>uacyltoe hxgaycze</td>\n",
              "      <td>uacyltoe hxgaycze</td>\n",
              "      <td>rxoluzhy pnutohms</td>\n",
              "      <td>GRP_36</td>\n",
              "    </tr>\n",
              "    <tr>\n",
              "      <th>3052</th>\n",
              "      <td>unable to launch outlook</td>\n",
              "      <td>unable to launch outlook</td>\n",
              "      <td>mvaxhzks kyzvflth</td>\n",
              "      <td>GRP_3</td>\n",
              "    </tr>\n",
              "    <tr>\n",
              "      <th>3075</th>\n",
              "      <td>account locked.</td>\n",
              "      <td>account locked.</td>\n",
              "      <td>sygionua szunhced</td>\n",
              "      <td>GRP_34</td>\n",
              "    </tr>\n",
              "    <tr>\n",
              "      <th>3747</th>\n",
              "      <td>canadian customer inwarehouse_tools are not pr...</td>\n",
              "      <td>\\n\\nreceived from: gkzedilm.tkpfumeb@gmail.com...</td>\n",
              "      <td>bixvmnar glakoprc</td>\n",
              "      <td>GRP_13</td>\n",
              "    </tr>\n",
              "    <tr>\n",
              "      <th>4020</th>\n",
              "      <td>network problems (multiple applications are ru...</td>\n",
              "      <td>how did you determine there are network proble...</td>\n",
              "      <td>jgmlbxns pxjsdwrk</td>\n",
              "      <td>GRP_14</td>\n",
              "    </tr>\n",
              "    <tr>\n",
              "      <th>4646</th>\n",
              "      <td>unable to connect to vpn</td>\n",
              "      <td>unable to connect to vpn</td>\n",
              "      <td>yzbqwpat fdjrctbu</td>\n",
              "      <td>GRP_19</td>\n",
              "    </tr>\n",
              "    <tr>\n",
              "      <th>5985</th>\n",
              "      <td>unable to connect to vpn</td>\n",
              "      <td>unable to connect to vpn</td>\n",
              "      <td>qjiutmel fgvtxeoy</td>\n",
              "      <td>GRP_50</td>\n",
              "    </tr>\n",
              "    <tr>\n",
              "      <th>6722</th>\n",
              "      <td>request to reset microsoft online services pas...</td>\n",
              "      <td>\\r\\n\\r\\nfrom: nwfodmhc exurcwkm \\r\\nsent: mond...</td>\n",
              "      <td>aedzqlvj mkosyxgh</td>\n",
              "      <td>GRP_34</td>\n",
              "    </tr>\n",
              "    <tr>\n",
              "      <th>7828</th>\n",
              "      <td>account locked.</td>\n",
              "      <td>account locked.</td>\n",
              "      <td>ydigzqbu xdgjizek</td>\n",
              "      <td>GRP_72</td>\n",
              "    </tr>\n",
              "    <tr>\n",
              "      <th>8353</th>\n",
              "      <td>unable to login to ethics</td>\n",
              "      <td>unable to login to ethics</td>\n",
              "      <td>vafjkslx ujancvlm</td>\n",
              "      <td>GRP_23</td>\n",
              "    </tr>\n",
              "  </tbody>\n",
              "</table>\n",
              "</div>"
            ],
            "text/plain": [
              "                                      Short description  ... Assignment group\n",
              "181                            unable to connect to vpn  ...           GRP_19\n",
              "605   material type \"nd\"  doesn Â´t create any requr...  ...           GRP_13\n",
              "621                            uacyltoe hxgaycze ignore  ...           GRP_36\n",
              "1300        cannot review stock at mdw04 // mm 6720004   ...            GRP_6\n",
              "1708                             no power on the laptop  ...            GRP_3\n",
              "2045                                  uacyltoe hxgaycze  ...           GRP_12\n",
              "2070                                  uacyltoe hxgaycze  ...           GRP_36\n",
              "3052                           unable to launch outlook  ...            GRP_3\n",
              "3075                                    account locked.  ...           GRP_34\n",
              "3747  canadian customer inwarehouse_tools are not pr...  ...           GRP_13\n",
              "4020  network problems (multiple applications are ru...  ...           GRP_14\n",
              "4646                           unable to connect to vpn  ...           GRP_19\n",
              "5985                           unable to connect to vpn  ...           GRP_50\n",
              "6722  request to reset microsoft online services pas...  ...           GRP_34\n",
              "7828                                    account locked.  ...           GRP_72\n",
              "8353                          unable to login to ethics  ...           GRP_23\n",
              "\n",
              "[16 rows x 4 columns]"
            ]
          },
          "metadata": {
            "tags": []
          },
          "execution_count": 53
        }
      ]
    },
    {
      "cell_type": "markdown",
      "metadata": {
        "id": "Vzhci1MjKzte"
      },
      "source": [
        "It was found that the Description had true duplicates in some cases which were assigned to different Groups , example is as below.\n",
        "In the below case both 'Short description' and 'Description' were same but were sorted to different 'Assignement group' and had only the caller as a different entitiy.\n",
        "This suggest the 'Caller' field could also carry a significance or the data is not correctly classified.\n",
        "This could also indicate user groups where a specific user is assigned a different 'Assignement group'"
      ]
    },
    {
      "cell_type": "code",
      "metadata": {
        "colab": {
          "base_uri": "https://localhost:8080/",
          "height": 111
        },
        "id": "GzhgK30r29E3",
        "outputId": "d74d381e-93a9-4830-d6fe-8be4cd30515e"
      },
      "source": [
        "dataset[dataset['Description'].fillna('').isin(['no power on the laptop'])]"
      ],
      "execution_count": null,
      "outputs": [
        {
          "output_type": "execute_result",
          "data": {
            "text/html": [
              "<div>\n",
              "<style scoped>\n",
              "    .dataframe tbody tr th:only-of-type {\n",
              "        vertical-align: middle;\n",
              "    }\n",
              "\n",
              "    .dataframe tbody tr th {\n",
              "        vertical-align: top;\n",
              "    }\n",
              "\n",
              "    .dataframe thead th {\n",
              "        text-align: right;\n",
              "    }\n",
              "</style>\n",
              "<table border=\"1\" class=\"dataframe\">\n",
              "  <thead>\n",
              "    <tr style=\"text-align: right;\">\n",
              "      <th></th>\n",
              "      <th>Short description</th>\n",
              "      <th>Description</th>\n",
              "      <th>Caller</th>\n",
              "      <th>Assignment group</th>\n",
              "    </tr>\n",
              "  </thead>\n",
              "  <tbody>\n",
              "    <tr>\n",
              "      <th>1582</th>\n",
              "      <td>no power on the laptop</td>\n",
              "      <td>no power on the laptop</td>\n",
              "      <td>vgtpkjhn flwsytik</td>\n",
              "      <td>GRP_0</td>\n",
              "    </tr>\n",
              "    <tr>\n",
              "      <th>1708</th>\n",
              "      <td>no power on the laptop</td>\n",
              "      <td>no power on the laptop</td>\n",
              "      <td>khrflgcj zxojidhe</td>\n",
              "      <td>GRP_3</td>\n",
              "    </tr>\n",
              "  </tbody>\n",
              "</table>\n",
              "</div>"
            ],
            "text/plain": [
              "           Short description  ... Assignment group\n",
              "1582  no power on the laptop  ...            GRP_0\n",
              "1708  no power on the laptop  ...            GRP_3\n",
              "\n",
              "[2 rows x 4 columns]"
            ]
          },
          "metadata": {
            "tags": []
          },
          "execution_count": 56
        }
      ]
    },
    {
      "cell_type": "markdown",
      "metadata": {
        "id": "Tk8QjGryMKrj"
      },
      "source": [
        "A specific case was noted for the 'Assignment group'=='GRP_17' where the description was a single word 'the' in total of 56 out of 81 tickets\n",
        "This need to be taken care of during the data preprocessing steps\n"
      ]
    },
    {
      "cell_type": "code",
      "metadata": {
        "colab": {
          "base_uri": "https://localhost:8080/",
          "height": 1000
        },
        "id": "kV3tSloKJPlY",
        "outputId": "b4a2884d-f64f-4e6e-d8fc-18fffb063a11"
      },
      "source": [
        "dataset[dataset['Description'].fillna('').isin(['the'])]"
      ],
      "execution_count": null,
      "outputs": [
        {
          "output_type": "execute_result",
          "data": {
            "text/html": [
              "<div>\n",
              "<style scoped>\n",
              "    .dataframe tbody tr th:only-of-type {\n",
              "        vertical-align: middle;\n",
              "    }\n",
              "\n",
              "    .dataframe tbody tr th {\n",
              "        vertical-align: top;\n",
              "    }\n",
              "\n",
              "    .dataframe thead th {\n",
              "        text-align: right;\n",
              "    }\n",
              "</style>\n",
              "<table border=\"1\" class=\"dataframe\">\n",
              "  <thead>\n",
              "    <tr style=\"text-align: right;\">\n",
              "      <th></th>\n",
              "      <th>Short description</th>\n",
              "      <th>Description</th>\n",
              "      <th>Caller</th>\n",
              "      <th>Assignment group</th>\n",
              "    </tr>\n",
              "  </thead>\n",
              "  <tbody>\n",
              "    <tr>\n",
              "      <th>1049</th>\n",
              "      <td>reset passwords for soldfnbq uhnbsvqd using pa...</td>\n",
              "      <td>the</td>\n",
              "      <td>soldfnbq uhnbsvqd</td>\n",
              "      <td>GRP_17</td>\n",
              "    </tr>\n",
              "    <tr>\n",
              "      <th>1054</th>\n",
              "      <td>reset passwords for fygrwuna gomcekzi using pa...</td>\n",
              "      <td>the</td>\n",
              "      <td>fygrwuna gomcekzi</td>\n",
              "      <td>GRP_17</td>\n",
              "    </tr>\n",
              "    <tr>\n",
              "      <th>1144</th>\n",
              "      <td>reset passwords for wvdxnkhf jirecvta using pa...</td>\n",
              "      <td>the</td>\n",
              "      <td>wvdxnkhf jirecvta</td>\n",
              "      <td>GRP_17</td>\n",
              "    </tr>\n",
              "    <tr>\n",
              "      <th>1184</th>\n",
              "      <td>reset passwords for pxvjczdt kizsjfpq using pa...</td>\n",
              "      <td>the</td>\n",
              "      <td>pxvjczdt kizsjfpq</td>\n",
              "      <td>GRP_17</td>\n",
              "    </tr>\n",
              "    <tr>\n",
              "      <th>1292</th>\n",
              "      <td>reset passwords for cubdsrml znewqgop using pa...</td>\n",
              "      <td>the</td>\n",
              "      <td>cubdsrml znewqgop</td>\n",
              "      <td>GRP_17</td>\n",
              "    </tr>\n",
              "    <tr>\n",
              "      <th>1476</th>\n",
              "      <td>reset passwords for bnoupaki cpeioxdz using pa...</td>\n",
              "      <td>the</td>\n",
              "      <td>bnoupaki cpeioxdz</td>\n",
              "      <td>GRP_17</td>\n",
              "    </tr>\n",
              "    <tr>\n",
              "      <th>1558</th>\n",
              "      <td>reset passwords for usa feathers using passwor...</td>\n",
              "      <td>the</td>\n",
              "      <td>lmqysdec ljvbnpqw</td>\n",
              "      <td>GRP_17</td>\n",
              "    </tr>\n",
              "    <tr>\n",
              "      <th>1693</th>\n",
              "      <td>reset passwords for eglavnhx uprodleq using pa...</td>\n",
              "      <td>the</td>\n",
              "      <td>eglavnhx uprodleq</td>\n",
              "      <td>GRP_17</td>\n",
              "    </tr>\n",
              "    <tr>\n",
              "      <th>1834</th>\n",
              "      <td>reset passwords for hybiaxlk lawptzir using pa...</td>\n",
              "      <td>the</td>\n",
              "      <td>hybiaxlk lawptzir</td>\n",
              "      <td>GRP_17</td>\n",
              "    </tr>\n",
              "    <tr>\n",
              "      <th>1850</th>\n",
              "      <td>reset passwords for fylrosuk kedgmiul using pa...</td>\n",
              "      <td>the</td>\n",
              "      <td>fylrosuk kedgmiul</td>\n",
              "      <td>GRP_17</td>\n",
              "    </tr>\n",
              "    <tr>\n",
              "      <th>1851</th>\n",
              "      <td>reset passwords for fylrosuk kedgmiul using pa...</td>\n",
              "      <td>the</td>\n",
              "      <td>fylrosuk kedgmiul</td>\n",
              "      <td>GRP_17</td>\n",
              "    </tr>\n",
              "    <tr>\n",
              "      <th>2151</th>\n",
              "      <td>reset passwords for gjisfonb odwfhmze using pa...</td>\n",
              "      <td>the</td>\n",
              "      <td>gjisfonb odwfhmze</td>\n",
              "      <td>GRP_17</td>\n",
              "    </tr>\n",
              "    <tr>\n",
              "      <th>2532</th>\n",
              "      <td>reset passwords for qwsjptlo hnlasbed using pa...</td>\n",
              "      <td>the</td>\n",
              "      <td>goaxzsql qpjnbgsa</td>\n",
              "      <td>GRP_17</td>\n",
              "    </tr>\n",
              "    <tr>\n",
              "      <th>2533</th>\n",
              "      <td>reset passwords for qwsjptlo hnlasbed using pa...</td>\n",
              "      <td>the</td>\n",
              "      <td>goaxzsql qpjnbgsa</td>\n",
              "      <td>GRP_17</td>\n",
              "    </tr>\n",
              "    <tr>\n",
              "      <th>2553</th>\n",
              "      <td>reset passwords for bxeagsmt zrwdgsco using pa...</td>\n",
              "      <td>the</td>\n",
              "      <td>bxeagsmt zrwdgsco</td>\n",
              "      <td>GRP_17</td>\n",
              "    </tr>\n",
              "    <tr>\n",
              "      <th>2554</th>\n",
              "      <td>reset passwords for bxeagsmt zrwdgsco using pa...</td>\n",
              "      <td>the</td>\n",
              "      <td>bxeagsmt zrwdgsco</td>\n",
              "      <td>GRP_17</td>\n",
              "    </tr>\n",
              "    <tr>\n",
              "      <th>2572</th>\n",
              "      <td>reset passwords for prgewfly ndtfvple using pa...</td>\n",
              "      <td>the</td>\n",
              "      <td>prgewfly ndtfvple</td>\n",
              "      <td>GRP_17</td>\n",
              "    </tr>\n",
              "    <tr>\n",
              "      <th>2602</th>\n",
              "      <td>reset passwords for wxdvjoct ckxwtoam using pa...</td>\n",
              "      <td>the</td>\n",
              "      <td>wxdvjoct ckxwtoam</td>\n",
              "      <td>GRP_17</td>\n",
              "    </tr>\n",
              "    <tr>\n",
              "      <th>2605</th>\n",
              "      <td>reset passwords for ytzpxhql ntfxgpms using pa...</td>\n",
              "      <td>the</td>\n",
              "      <td>ytzpxhql ntfxgpms</td>\n",
              "      <td>GRP_17</td>\n",
              "    </tr>\n",
              "    <tr>\n",
              "      <th>2749</th>\n",
              "      <td>reset passwords for fkuqjwit jgcsaqzi using pa...</td>\n",
              "      <td>the</td>\n",
              "      <td>fkuqjwit jgcsaqzi</td>\n",
              "      <td>GRP_17</td>\n",
              "    </tr>\n",
              "    <tr>\n",
              "      <th>2788</th>\n",
              "      <td>reset passwords for hzmxwdrs tcbjyqps using pa...</td>\n",
              "      <td>the</td>\n",
              "      <td>hzmxwdrs tcbjyqps</td>\n",
              "      <td>GRP_17</td>\n",
              "    </tr>\n",
              "    <tr>\n",
              "      <th>3000</th>\n",
              "      <td>reset passwords for knemilvx dvqtziya using pa...</td>\n",
              "      <td>the</td>\n",
              "      <td>jtwykasf elkhcjqn</td>\n",
              "      <td>GRP_17</td>\n",
              "    </tr>\n",
              "    <tr>\n",
              "      <th>3447</th>\n",
              "      <td>reset passwords for qoybxkfh dwcmxuea using pa...</td>\n",
              "      <td>the</td>\n",
              "      <td>qoybxkfh dwcmxuea</td>\n",
              "      <td>GRP_17</td>\n",
              "    </tr>\n",
              "    <tr>\n",
              "      <th>3692</th>\n",
              "      <td>reset passwords for mvhcoqed konjdmwq using pa...</td>\n",
              "      <td>the</td>\n",
              "      <td>mvhcoqed konjdmwq</td>\n",
              "      <td>GRP_17</td>\n",
              "    </tr>\n",
              "    <tr>\n",
              "      <th>3693</th>\n",
              "      <td>reset passwords for mvhcoqed konjdmwq using pa...</td>\n",
              "      <td>the</td>\n",
              "      <td>mvhcoqed konjdmwq</td>\n",
              "      <td>GRP_17</td>\n",
              "    </tr>\n",
              "    <tr>\n",
              "      <th>4055</th>\n",
              "      <td>reset passwords for jerydwbn gdylnaue using pa...</td>\n",
              "      <td>the</td>\n",
              "      <td>jerydwbn gdylnaue</td>\n",
              "      <td>GRP_17</td>\n",
              "    </tr>\n",
              "    <tr>\n",
              "      <th>4065</th>\n",
              "      <td>reset passwords for dmexgspl mruzqhac using pa...</td>\n",
              "      <td>the</td>\n",
              "      <td>dmexgspl mruzqhac</td>\n",
              "      <td>GRP_17</td>\n",
              "    </tr>\n",
              "    <tr>\n",
              "      <th>4672</th>\n",
              "      <td>reset passwords for robhyertyj f duca using pa...</td>\n",
              "      <td>the</td>\n",
              "      <td>acteiqdu bferalus</td>\n",
              "      <td>GRP_17</td>\n",
              "    </tr>\n",
              "    <tr>\n",
              "      <th>4978</th>\n",
              "      <td>reset passwords for davidthd robankm using pas...</td>\n",
              "      <td>the</td>\n",
              "      <td>zelunfcq yimdwjrp</td>\n",
              "      <td>GRP_17</td>\n",
              "    </tr>\n",
              "    <tr>\n",
              "      <th>4984</th>\n",
              "      <td>reset passwords for cubdsrml znewqgop using pa...</td>\n",
              "      <td>the</td>\n",
              "      <td>cubdsrml znewqgop</td>\n",
              "      <td>GRP_17</td>\n",
              "    </tr>\n",
              "    <tr>\n",
              "      <th>4991</th>\n",
              "      <td>reset passwords for davidthd robankm using pas...</td>\n",
              "      <td>the</td>\n",
              "      <td>zelunfcq yimdwjrp</td>\n",
              "      <td>GRP_17</td>\n",
              "    </tr>\n",
              "    <tr>\n",
              "      <th>5074</th>\n",
              "      <td>reset passwords for mafgtnik -0 using password...</td>\n",
              "      <td>the</td>\n",
              "      <td>plzsntqj ujdyobsk</td>\n",
              "      <td>GRP_17</td>\n",
              "    </tr>\n",
              "    <tr>\n",
              "      <th>5077</th>\n",
              "      <td>reset passwords for cÃ©sar abreu rghkiriuytes ...</td>\n",
              "      <td>the</td>\n",
              "      <td>btvmxdfc yfahetsc</td>\n",
              "      <td>GRP_17</td>\n",
              "    </tr>\n",
              "    <tr>\n",
              "      <th>5182</th>\n",
              "      <td>reset passwords for yolktfas fyoxqgvh using pa...</td>\n",
              "      <td>the</td>\n",
              "      <td>yolktfas fyoxqgvh</td>\n",
              "      <td>GRP_17</td>\n",
              "    </tr>\n",
              "    <tr>\n",
              "      <th>5228</th>\n",
              "      <td>reset passwords for ugawcoye jcfqgviy using pa...</td>\n",
              "      <td>the</td>\n",
              "      <td>ugawcoye jcfqgviy</td>\n",
              "      <td>GRP_17</td>\n",
              "    </tr>\n",
              "    <tr>\n",
              "      <th>5305</th>\n",
              "      <td>reset passwords for qgilmtyc gmscovxa using pa...</td>\n",
              "      <td>the</td>\n",
              "      <td>qgilmtyc gmscovxa</td>\n",
              "      <td>GRP_17</td>\n",
              "    </tr>\n",
              "    <tr>\n",
              "      <th>5317</th>\n",
              "      <td>reset passwords for bxeagsmt zrwdgsco using pa...</td>\n",
              "      <td>the</td>\n",
              "      <td>bxeagsmt zrwdgsco</td>\n",
              "      <td>GRP_17</td>\n",
              "    </tr>\n",
              "    <tr>\n",
              "      <th>5482</th>\n",
              "      <td>reset passwords for qycgdfhz iqshzdru using pa...</td>\n",
              "      <td>the</td>\n",
              "      <td>qycgdfhz iqshzdru</td>\n",
              "      <td>GRP_17</td>\n",
              "    </tr>\n",
              "    <tr>\n",
              "      <th>5708</th>\n",
              "      <td>reset passwords for bxeagsmt zrwdgsco using pa...</td>\n",
              "      <td>the</td>\n",
              "      <td>bxeagsmt zrwdgsco</td>\n",
              "      <td>GRP_17</td>\n",
              "    </tr>\n",
              "    <tr>\n",
              "      <th>5839</th>\n",
              "      <td>reset passwords for cpmaidhj elbaqmtp using pa...</td>\n",
              "      <td>the</td>\n",
              "      <td>cpmaidhj elbaqmtp</td>\n",
              "      <td>GRP_17</td>\n",
              "    </tr>\n",
              "    <tr>\n",
              "      <th>5884</th>\n",
              "      <td>reset passwords for bxeagsmt zrwdgsco using pa...</td>\n",
              "      <td>the</td>\n",
              "      <td>bxeagsmt zrwdgsco</td>\n",
              "      <td>GRP_17</td>\n",
              "    </tr>\n",
              "    <tr>\n",
              "      <th>6037</th>\n",
              "      <td>reset passwords for cesgrtar abgrtyreu using p...</td>\n",
              "      <td>the</td>\n",
              "      <td>btvmxdfc yfahetsc</td>\n",
              "      <td>GRP_17</td>\n",
              "    </tr>\n",
              "    <tr>\n",
              "      <th>6058</th>\n",
              "      <td>reset passwords for bxeagsmt zrwdgsco using pa...</td>\n",
              "      <td>the</td>\n",
              "      <td>bxeagsmt zrwdgsco</td>\n",
              "      <td>GRP_17</td>\n",
              "    </tr>\n",
              "    <tr>\n",
              "      <th>6693</th>\n",
              "      <td>reset passwords for pzjelyxg vstyaouc using pa...</td>\n",
              "      <td>the</td>\n",
              "      <td>pzjelyxg vstyaouc</td>\n",
              "      <td>GRP_17</td>\n",
              "    </tr>\n",
              "    <tr>\n",
              "      <th>6764</th>\n",
              "      <td>reset passwords for horeduca ogrhivnm using pa...</td>\n",
              "      <td>the</td>\n",
              "      <td>horeduca ogrhivnm</td>\n",
              "      <td>GRP_17</td>\n",
              "    </tr>\n",
              "    <tr>\n",
              "      <th>6819</th>\n",
              "      <td>reset passwords for wvdxnkhf jirecvta using pa...</td>\n",
              "      <td>the</td>\n",
              "      <td>wvdxnkhf jirecvta</td>\n",
              "      <td>GRP_17</td>\n",
              "    </tr>\n",
              "    <tr>\n",
              "      <th>6963</th>\n",
              "      <td>reset passwords for patrcja szpilewska using p...</td>\n",
              "      <td>the</td>\n",
              "      <td>lmsxcvoz vzhkdpfn</td>\n",
              "      <td>GRP_17</td>\n",
              "    </tr>\n",
              "    <tr>\n",
              "      <th>7131</th>\n",
              "      <td>reset passwords for ezrsdgfc hofgvwel using pa...</td>\n",
              "      <td>the</td>\n",
              "      <td>ezrsdgfc hofgvwel</td>\n",
              "      <td>GRP_17</td>\n",
              "    </tr>\n",
              "    <tr>\n",
              "      <th>7132</th>\n",
              "      <td>reset passwords for ezrsdgfc hofgvwel using pa...</td>\n",
              "      <td>the</td>\n",
              "      <td>ezrsdgfc hofgvwel</td>\n",
              "      <td>GRP_17</td>\n",
              "    </tr>\n",
              "    <tr>\n",
              "      <th>7169</th>\n",
              "      <td>reset passwords for andrdgrtew p taneghrty usi...</td>\n",
              "      <td>the</td>\n",
              "      <td>tjzohmve wusgaozx</td>\n",
              "      <td>GRP_17</td>\n",
              "    </tr>\n",
              "    <tr>\n",
              "      <th>7630</th>\n",
              "      <td>reset passwords for jcmxerol nbfyczqr using pa...</td>\n",
              "      <td>the</td>\n",
              "      <td>jcmxerol nbfyczqr</td>\n",
              "      <td>GRP_17</td>\n",
              "    </tr>\n",
              "    <tr>\n",
              "      <th>7875</th>\n",
              "      <td>reset passwords for esias bosch using password...</td>\n",
              "      <td>the</td>\n",
              "      <td>paqrentz gcnyaxsb</td>\n",
              "      <td>GRP_17</td>\n",
              "    </tr>\n",
              "    <tr>\n",
              "      <th>8059</th>\n",
              "      <td>reset passwords for wptbgchj jutpdcqf using pa...</td>\n",
              "      <td>the</td>\n",
              "      <td>wptbgchj jutpdcqf</td>\n",
              "      <td>GRP_17</td>\n",
              "    </tr>\n",
              "    <tr>\n",
              "      <th>8092</th>\n",
              "      <td>reset passwords for prgthyuulla ramdntythanjes...</td>\n",
              "      <td>the</td>\n",
              "      <td>boirqctx bkijgqry</td>\n",
              "      <td>GRP_17</td>\n",
              "    </tr>\n",
              "    <tr>\n",
              "      <th>8093</th>\n",
              "      <td>reset passwords for prgthyuulla ramdntythanjes...</td>\n",
              "      <td>the</td>\n",
              "      <td>boirqctx bkijgqry</td>\n",
              "      <td>GRP_17</td>\n",
              "    </tr>\n",
              "    <tr>\n",
              "      <th>8168</th>\n",
              "      <td>reset passwords for kevguind l gineman using p...</td>\n",
              "      <td>the</td>\n",
              "      <td>nckihpba czrdksex</td>\n",
              "      <td>GRP_17</td>\n",
              "    </tr>\n",
              "  </tbody>\n",
              "</table>\n",
              "</div>"
            ],
            "text/plain": [
              "                                      Short description  ... Assignment group\n",
              "1049  reset passwords for soldfnbq uhnbsvqd using pa...  ...           GRP_17\n",
              "1054  reset passwords for fygrwuna gomcekzi using pa...  ...           GRP_17\n",
              "1144  reset passwords for wvdxnkhf jirecvta using pa...  ...           GRP_17\n",
              "1184  reset passwords for pxvjczdt kizsjfpq using pa...  ...           GRP_17\n",
              "1292  reset passwords for cubdsrml znewqgop using pa...  ...           GRP_17\n",
              "1476  reset passwords for bnoupaki cpeioxdz using pa...  ...           GRP_17\n",
              "1558  reset passwords for usa feathers using passwor...  ...           GRP_17\n",
              "1693  reset passwords for eglavnhx uprodleq using pa...  ...           GRP_17\n",
              "1834  reset passwords for hybiaxlk lawptzir using pa...  ...           GRP_17\n",
              "1850  reset passwords for fylrosuk kedgmiul using pa...  ...           GRP_17\n",
              "1851  reset passwords for fylrosuk kedgmiul using pa...  ...           GRP_17\n",
              "2151  reset passwords for gjisfonb odwfhmze using pa...  ...           GRP_17\n",
              "2532  reset passwords for qwsjptlo hnlasbed using pa...  ...           GRP_17\n",
              "2533  reset passwords for qwsjptlo hnlasbed using pa...  ...           GRP_17\n",
              "2553  reset passwords for bxeagsmt zrwdgsco using pa...  ...           GRP_17\n",
              "2554  reset passwords for bxeagsmt zrwdgsco using pa...  ...           GRP_17\n",
              "2572  reset passwords for prgewfly ndtfvple using pa...  ...           GRP_17\n",
              "2602  reset passwords for wxdvjoct ckxwtoam using pa...  ...           GRP_17\n",
              "2605  reset passwords for ytzpxhql ntfxgpms using pa...  ...           GRP_17\n",
              "2749  reset passwords for fkuqjwit jgcsaqzi using pa...  ...           GRP_17\n",
              "2788  reset passwords for hzmxwdrs tcbjyqps using pa...  ...           GRP_17\n",
              "3000  reset passwords for knemilvx dvqtziya using pa...  ...           GRP_17\n",
              "3447  reset passwords for qoybxkfh dwcmxuea using pa...  ...           GRP_17\n",
              "3692  reset passwords for mvhcoqed konjdmwq using pa...  ...           GRP_17\n",
              "3693  reset passwords for mvhcoqed konjdmwq using pa...  ...           GRP_17\n",
              "4055  reset passwords for jerydwbn gdylnaue using pa...  ...           GRP_17\n",
              "4065  reset passwords for dmexgspl mruzqhac using pa...  ...           GRP_17\n",
              "4672  reset passwords for robhyertyj f duca using pa...  ...           GRP_17\n",
              "4978  reset passwords for davidthd robankm using pas...  ...           GRP_17\n",
              "4984  reset passwords for cubdsrml znewqgop using pa...  ...           GRP_17\n",
              "4991  reset passwords for davidthd robankm using pas...  ...           GRP_17\n",
              "5074  reset passwords for mafgtnik -0 using password...  ...           GRP_17\n",
              "5077  reset passwords for cÃ©sar abreu rghkiriuytes ...  ...           GRP_17\n",
              "5182  reset passwords for yolktfas fyoxqgvh using pa...  ...           GRP_17\n",
              "5228  reset passwords for ugawcoye jcfqgviy using pa...  ...           GRP_17\n",
              "5305  reset passwords for qgilmtyc gmscovxa using pa...  ...           GRP_17\n",
              "5317  reset passwords for bxeagsmt zrwdgsco using pa...  ...           GRP_17\n",
              "5482  reset passwords for qycgdfhz iqshzdru using pa...  ...           GRP_17\n",
              "5708  reset passwords for bxeagsmt zrwdgsco using pa...  ...           GRP_17\n",
              "5839  reset passwords for cpmaidhj elbaqmtp using pa...  ...           GRP_17\n",
              "5884  reset passwords for bxeagsmt zrwdgsco using pa...  ...           GRP_17\n",
              "6037  reset passwords for cesgrtar abgrtyreu using p...  ...           GRP_17\n",
              "6058  reset passwords for bxeagsmt zrwdgsco using pa...  ...           GRP_17\n",
              "6693  reset passwords for pzjelyxg vstyaouc using pa...  ...           GRP_17\n",
              "6764  reset passwords for horeduca ogrhivnm using pa...  ...           GRP_17\n",
              "6819  reset passwords for wvdxnkhf jirecvta using pa...  ...           GRP_17\n",
              "6963  reset passwords for patrcja szpilewska using p...  ...           GRP_17\n",
              "7131  reset passwords for ezrsdgfc hofgvwel using pa...  ...           GRP_17\n",
              "7132  reset passwords for ezrsdgfc hofgvwel using pa...  ...           GRP_17\n",
              "7169  reset passwords for andrdgrtew p taneghrty usi...  ...           GRP_17\n",
              "7630  reset passwords for jcmxerol nbfyczqr using pa...  ...           GRP_17\n",
              "7875  reset passwords for esias bosch using password...  ...           GRP_17\n",
              "8059  reset passwords for wptbgchj jutpdcqf using pa...  ...           GRP_17\n",
              "8092  reset passwords for prgthyuulla ramdntythanjes...  ...           GRP_17\n",
              "8093  reset passwords for prgthyuulla ramdntythanjes...  ...           GRP_17\n",
              "8168  reset passwords for kevguind l gineman using p...  ...           GRP_17\n",
              "\n",
              "[56 rows x 4 columns]"
            ]
          },
          "metadata": {
            "tags": []
          },
          "execution_count": 57
        }
      ]
    },
    {
      "cell_type": "code",
      "metadata": {
        "colab": {
          "base_uri": "https://localhost:8080/"
        },
        "id": "v7qzgYLAManq",
        "outputId": "3967f5ca-44fb-4f93-d483-dd25d3e4c99d"
      },
      "source": [
        "dataset[dataset['Assignment group']=='GRP_17']['Description'].value_counts()"
      ],
      "execution_count": null,
      "outputs": [
        {
          "output_type": "execute_result",
          "data": {
            "text/plain": [
              "the                                                                                                                                                                                                                                                                                                                                                                  56\n",
              "password was reset  but will not allow reset for SID_34 erp production                                                                                                                                                                                                                                                                                                1\n",
              "i have been locked out of SID_39, client 120 function specifically for the crm system.  i made one attempt at entering my password and i received: \"password logon no longer possible - too many failed attempts\".                                                                                                                                                    1\n",
              "cannot log into hiatchi password manager, to change to new password.                                                                                                                                                                                                                                                                                                  1\n",
              "i can not log in erp                                                                                                                                                                                                                                                                                                                                                  1\n",
              "hi, \\r\\nplease unlock sebfghkasthian's (wiejas couskjgd.uzojtkmh@gmail.com) account.\\r\\n                                                                                                                                                                                                                                                                              1\n",
              "password resets to everything but erp productio                                                                                                                                                                                                                                                                                                                       1\n",
              "complete                                                                                                                                                                                                                                                                                                                                                              1\n",
              "as per system instruction now i have reset the password, but i'm unable to login erp system SID_34                                                                                                                                                                                                                                                                    1\n",
              "change to new password: alabama4$                                                                                                                                                                                                                                                                                                                                     1\n",
              "erp password reset needed                                                                                                                                                                                                                                                                                                                                             1\n",
              "è¯·å°†å¯†ç è®¾ç½®ä¸ºï¼šsdguo1609                                                                                                                                                                                                                                                                                                                                     1\n",
              "please reseat SID_1. i need to uacyltoe hxgaycze something.                                                                                                                                                                                                                                                                                                           1\n",
              "globalview (794, prtgghj4k) reset please!!!                                                                                                                                                                                                                                                                                                                           1\n",
              "bitte erp kennwort zurÃ¼cksetzen.                                                                                                                                                                                                                                                                                                                                     1\n",
              "mein erp passwort funktioniert nicht. ich bin gesperrt.                                                                                                                                                                                                                                                                                                               1\n",
              "reset passwords for bfnvjgxd trqmnpvu using password_management_tool password reset.                                                                                                                                                                                                                                                                                  1\n",
              "please reset erp password for beahleb......                                                                                                                                                                                                                                                                                                                           1\n",
              "reset passwords for qnxfegjw rljdhmwb using password_management_tool password reset.                                                                                                                                                                                                                                                                                  1\n",
              "reset passwords for hdthy v hstdd using password_management_tool password reset.                                                                                                                                                                                                                                                                                      1\n",
              "employee is getting an error \"user authentication failed\" when trying to log into the ess portal.  she is able to access erp and is able to access the hub.  tried to reset and change her password through password_management_tool password manager but got an error  \"cannot find account [woodscf] on target [active directory].\"\\n\\nher user id is hdjdkt123     1\n",
              "hi all,\\r\\n\\r\\nplease, the user romertanj need their password reset.\\r\\n\\r\\n                                                                                                                                                                                                                                                                                          1\n",
              "reset passwords for mgvpoyqd tnlshpwb using password_management_tool password reset.                                                                                                                                                                                                                                                                                  1\n",
              "i reset my password tonight and already forgot it. i can't log on to anything.                                                                                                                                                                                                                                                                                        1\n",
              "forgot password for erp login                                                                                                                                                                                                                                                                                                                                         1\n",
              "i am locked out of password_management_tool id password manager to sync my passwords and my o365 password is not working. please reset my password.                                                                                                                                                                                                                   1\n",
              "Name: Description, dtype: int64"
            ]
          },
          "metadata": {
            "tags": []
          },
          "execution_count": 59
        }
      ]
    },
    {
      "cell_type": "code",
      "metadata": {
        "colab": {
          "base_uri": "https://localhost:8080/"
        },
        "id": "gGFZ1HNSNIZA",
        "outputId": "56b16860-9c9c-4e54-fd89-ba860dd74c9d"
      },
      "source": [
        "len(dataset[dataset['Assignment group']=='GRP_17'])"
      ],
      "execution_count": null,
      "outputs": [
        {
          "output_type": "execute_result",
          "data": {
            "text/plain": [
              "81"
            ]
          },
          "metadata": {
            "tags": []
          },
          "execution_count": 60
        }
      ]
    },
    {
      "cell_type": "markdown",
      "metadata": {
        "id": "HNylJtPTN3vY"
      },
      "source": [
        "#####Languages"
      ]
    },
    {
      "cell_type": "code",
      "metadata": {
        "colab": {
          "base_uri": "https://localhost:8080/"
        },
        "id": "3pPHuYNvPY1x",
        "outputId": "872af583-e242-4df6-d29b-d681be9ee13c"
      },
      "source": [
        "! pip install fasttext"
      ],
      "execution_count": null,
      "outputs": [
        {
          "output_type": "stream",
          "text": [
            "Collecting fasttext\n",
            "\u001b[?25l  Downloading https://files.pythonhosted.org/packages/f8/85/e2b368ab6d3528827b147fdb814f8189acc981a4bc2f99ab894650e05c40/fasttext-0.9.2.tar.gz (68kB)\n",
            "\r\u001b[K     |████▊                           | 10kB 16.1MB/s eta 0:00:01\r\u001b[K     |█████████▌                      | 20kB 9.6MB/s eta 0:00:01\r\u001b[K     |██████████████▎                 | 30kB 7.5MB/s eta 0:00:01\r\u001b[K     |███████████████████             | 40kB 6.8MB/s eta 0:00:01\r\u001b[K     |███████████████████████▉        | 51kB 4.4MB/s eta 0:00:01\r\u001b[K     |████████████████████████████▋   | 61kB 5.0MB/s eta 0:00:01\r\u001b[K     |████████████████████████████████| 71kB 3.1MB/s \n",
            "\u001b[?25hRequirement already satisfied: pybind11>=2.2 in /usr/local/lib/python3.7/dist-packages (from fasttext) (2.6.2)\n",
            "Requirement already satisfied: setuptools>=0.7.0 in /usr/local/lib/python3.7/dist-packages (from fasttext) (54.0.0)\n",
            "Requirement already satisfied: numpy in /usr/local/lib/python3.7/dist-packages (from fasttext) (1.19.5)\n",
            "Building wheels for collected packages: fasttext\n",
            "  Building wheel for fasttext (setup.py) ... \u001b[?25l\u001b[?25hdone\n",
            "  Created wheel for fasttext: filename=fasttext-0.9.2-cp37-cp37m-linux_x86_64.whl size=3097393 sha256=8506083498333198e424da69c8f6bc9e2f106e02f315f9e13e7f39a48e39ba50\n",
            "  Stored in directory: /root/.cache/pip/wheels/98/ba/7f/b154944a1cf5a8cee91c154b75231136cc3a3321ab0e30f592\n",
            "Successfully built fasttext\n",
            "Installing collected packages: fasttext\n",
            "Successfully installed fasttext-0.9.2\n"
          ],
          "name": "stdout"
        }
      ]
    },
    {
      "cell_type": "code",
      "metadata": {
        "id": "ILEWsf3cN7UP"
      },
      "source": [
        "from langid.langid import LanguageIdentifier, model\n",
        "lang_identifier = LanguageIdentifier.from_modelstring(model, norm_probs=True)\n",
        "\n",
        "langDetect=dataset.assign(language_Description=[lang_identifier.classify(x)[0]for x in dataset.CleanDesc.fillna('Dummy')],\n",
        "                          language_probability=[lang_identifier.classify(x)[1]for x in dataset.CleanDesc.fillna('Dummy')])\n"
      ],
      "execution_count": null,
      "outputs": []
    },
    {
      "cell_type": "code",
      "metadata": {
        "colab": {
          "base_uri": "https://localhost:8080/"
        },
        "id": "TNpV5d98RTYU",
        "outputId": "2ecc5900-23c4-46ec-dfe5-d95eb63b1f8f"
      },
      "source": [
        "langDetect[langDetect.language_probability>0.9].language_Description.value_counts()"
      ],
      "execution_count": null,
      "outputs": [
        {
          "output_type": "execute_result",
          "data": {
            "text/plain": [
              "en    6660\n",
              "de     534\n",
              "qu      60\n",
              "zh      38\n",
              "la      24\n",
              "pt      12\n",
              "fr      11\n",
              "it      11\n",
              "nb       6\n",
              "es       5\n",
              "sv       5\n",
              "nl       5\n",
              "no       4\n",
              "da       3\n",
              "is       2\n",
              "lb       2\n",
              "pl       2\n",
              "id       1\n",
              "oc       1\n",
              "eu       1\n",
              "ro       1\n",
              "lt       1\n",
              "br       1\n",
              "ko       1\n",
              "Name: language_Description, dtype: int64"
            ]
          },
          "metadata": {
            "tags": []
          },
          "execution_count": 242
        }
      ]
    },
    {
      "cell_type": "code",
      "metadata": {
        "colab": {
          "base_uri": "https://localhost:8080/",
          "height": 1000
        },
        "id": "Qj1rPUwT2Vsd",
        "outputId": "57697601-c700-4f4b-8386-3e23a5e10cbc"
      },
      "source": [
        "langDetect[(langDetect.language_probability>0.8) & (langDetect.language_Description=='fr')]"
      ],
      "execution_count": null,
      "outputs": [
        {
          "output_type": "execute_result",
          "data": {
            "text/html": [
              "<div>\n",
              "<style scoped>\n",
              "    .dataframe tbody tr th:only-of-type {\n",
              "        vertical-align: middle;\n",
              "    }\n",
              "\n",
              "    .dataframe tbody tr th {\n",
              "        vertical-align: top;\n",
              "    }\n",
              "\n",
              "    .dataframe thead th {\n",
              "        text-align: right;\n",
              "    }\n",
              "</style>\n",
              "<table border=\"1\" class=\"dataframe\">\n",
              "  <thead>\n",
              "    <tr style=\"text-align: right;\">\n",
              "      <th></th>\n",
              "      <th>Short description</th>\n",
              "      <th>Description</th>\n",
              "      <th>Caller</th>\n",
              "      <th>Assignment group</th>\n",
              "      <th>CleanDesc</th>\n",
              "      <th>language_Description</th>\n",
              "      <th>language_probability</th>\n",
              "    </tr>\n",
              "  </thead>\n",
              "  <tbody>\n",
              "    <tr>\n",
              "      <th>183</th>\n",
              "      <td>windows account locked</td>\n",
              "      <td>windows account locked</td>\n",
              "      <td>lvxakohq tsfnhowj</td>\n",
              "      <td>GRP_0</td>\n",
              "      <td>windows account locked</td>\n",
              "      <td>fr</td>\n",
              "      <td>0.885047</td>\n",
              "    </tr>\n",
              "    <tr>\n",
              "      <th>274</th>\n",
              "      <td>windows account locked</td>\n",
              "      <td>windows account locked</td>\n",
              "      <td>kiqrvwat gwkpxzyt</td>\n",
              "      <td>GRP_0</td>\n",
              "      <td>windows account locked</td>\n",
              "      <td>fr</td>\n",
              "      <td>0.885047</td>\n",
              "    </tr>\n",
              "    <tr>\n",
              "      <th>388</th>\n",
              "      <td>reset users password</td>\n",
              "      <td>reset users password</td>\n",
              "      <td>qcehailo wqynckxg</td>\n",
              "      <td>GRP_0</td>\n",
              "      <td>reset users password</td>\n",
              "      <td>fr</td>\n",
              "      <td>0.809719</td>\n",
              "    </tr>\n",
              "    <tr>\n",
              "      <th>496</th>\n",
              "      <td>windows account locked</td>\n",
              "      <td>windows account locked</td>\n",
              "      <td>wetajgsq ezmcqkbp</td>\n",
              "      <td>GRP_0</td>\n",
              "      <td>windows account locked</td>\n",
              "      <td>fr</td>\n",
              "      <td>0.885047</td>\n",
              "    </tr>\n",
              "    <tr>\n",
              "      <th>1152</th>\n",
              "      <td>windows account unlock</td>\n",
              "      <td>windows account unlock</td>\n",
              "      <td>emtwgzxh sgkrzinp</td>\n",
              "      <td>GRP_0</td>\n",
              "      <td>windows account unlock</td>\n",
              "      <td>fr</td>\n",
              "      <td>0.936399</td>\n",
              "    </tr>\n",
              "    <tr>\n",
              "      <th>1217</th>\n",
              "      <td>windows account unlock</td>\n",
              "      <td>windows account unlock</td>\n",
              "      <td>zidcxslw clyfdaki</td>\n",
              "      <td>GRP_0</td>\n",
              "      <td>windows account unlock</td>\n",
              "      <td>fr</td>\n",
              "      <td>0.936399</td>\n",
              "    </tr>\n",
              "    <tr>\n",
              "      <th>1458</th>\n",
              "      <td>windows account locked</td>\n",
              "      <td>windows account locked</td>\n",
              "      <td>blksigdy nzapgrlx</td>\n",
              "      <td>GRP_0</td>\n",
              "      <td>windows account locked</td>\n",
              "      <td>fr</td>\n",
              "      <td>0.885047</td>\n",
              "    </tr>\n",
              "    <tr>\n",
              "      <th>1502</th>\n",
              "      <td>windows account unlock</td>\n",
              "      <td>windows account unlock</td>\n",
              "      <td>gvdkupew waphsuen</td>\n",
              "      <td>GRP_0</td>\n",
              "      <td>windows account unlock</td>\n",
              "      <td>fr</td>\n",
              "      <td>0.936399</td>\n",
              "    </tr>\n",
              "    <tr>\n",
              "      <th>1527</th>\n",
              "      <td>ticket query regarding : ticket_no0447258</td>\n",
              "      <td>ticket query regarding : ticket_no0447258</td>\n",
              "      <td>efbwiadp dicafxhv</td>\n",
              "      <td>GRP_0</td>\n",
              "      <td>ticket query regarding : ticketno0447258</td>\n",
              "      <td>fr</td>\n",
              "      <td>0.886694</td>\n",
              "    </tr>\n",
              "    <tr>\n",
              "      <th>1752</th>\n",
              "      <td>vip 2: windows account unlock</td>\n",
              "      <td>vip 2: windows account unlock</td>\n",
              "      <td>tqjsmwvk arqoytbh</td>\n",
              "      <td>GRP_0</td>\n",
              "      <td>vip 2: windows account unlock</td>\n",
              "      <td>fr</td>\n",
              "      <td>0.936399</td>\n",
              "    </tr>\n",
              "    <tr>\n",
              "      <th>2339</th>\n",
              "      <td>power management query</td>\n",
              "      <td>power management query</td>\n",
              "      <td>qftpazns fxpnytmk</td>\n",
              "      <td>GRP_0</td>\n",
              "      <td>power management query</td>\n",
              "      <td>fr</td>\n",
              "      <td>0.943035</td>\n",
              "    </tr>\n",
              "    <tr>\n",
              "      <th>2414</th>\n",
              "      <td>account locked. password reset request.</td>\n",
              "      <td>account locked. password reset request.</td>\n",
              "      <td>edrglpvu ihpzqksy</td>\n",
              "      <td>GRP_0</td>\n",
              "      <td>account locked. password reset request.</td>\n",
              "      <td>fr</td>\n",
              "      <td>0.874170</td>\n",
              "    </tr>\n",
              "    <tr>\n",
              "      <th>2481</th>\n",
              "      <td>windows account unlock</td>\n",
              "      <td>windows account unlock</td>\n",
              "      <td>syclwnxe jhgdesun</td>\n",
              "      <td>GRP_0</td>\n",
              "      <td>windows account unlock</td>\n",
              "      <td>fr</td>\n",
              "      <td>0.936399</td>\n",
              "    </tr>\n",
              "    <tr>\n",
              "      <th>2793</th>\n",
              "      <td>erp SID_39 account locked // password reset</td>\n",
              "      <td>erp SID_39 account locked // password reset</td>\n",
              "      <td>xtqbjieu uablitwr</td>\n",
              "      <td>GRP_0</td>\n",
              "      <td>erp SID39 account locked // password reset</td>\n",
              "      <td>fr</td>\n",
              "      <td>0.874170</td>\n",
              "    </tr>\n",
              "    <tr>\n",
              "      <th>2927</th>\n",
              "      <td>windows account locked</td>\n",
              "      <td>windows account locked</td>\n",
              "      <td>vyjmlain hvjbmdgi</td>\n",
              "      <td>GRP_0</td>\n",
              "      <td>windows account locked</td>\n",
              "      <td>fr</td>\n",
              "      <td>0.885047</td>\n",
              "    </tr>\n",
              "    <tr>\n",
              "      <th>3074</th>\n",
              "      <td>erp SID_34 password reset done.</td>\n",
              "      <td>erp SID_34 password reset done.</td>\n",
              "      <td>upcajlmd uqsbmiea</td>\n",
              "      <td>GRP_0</td>\n",
              "      <td>erp SID34 password reset done.</td>\n",
              "      <td>fr</td>\n",
              "      <td>0.929436</td>\n",
              "    </tr>\n",
              "    <tr>\n",
              "      <th>3183</th>\n",
              "      <td>hr_tool etime query</td>\n",
              "      <td>hr_tool etime query</td>\n",
              "      <td>efulzico epgfbhmt</td>\n",
              "      <td>GRP_0</td>\n",
              "      <td>hrtool etime query</td>\n",
              "      <td>fr</td>\n",
              "      <td>0.952324</td>\n",
              "    </tr>\n",
              "    <tr>\n",
              "      <th>3256</th>\n",
              "      <td>forgot password.</td>\n",
              "      <td>forgot password.</td>\n",
              "      <td>kpudhygb vnizrdeb</td>\n",
              "      <td>GRP_0</td>\n",
              "      <td>forgot password.</td>\n",
              "      <td>fr</td>\n",
              "      <td>0.831326</td>\n",
              "    </tr>\n",
              "    <tr>\n",
              "      <th>3352</th>\n",
              "      <td>ms crmdynamics deployment query</td>\n",
              "      <td>ms crm dynamics deployment query.</td>\n",
              "      <td>tmopbken ibzougsd</td>\n",
              "      <td>GRP_0</td>\n",
              "      <td>ms crm dynamics deployment query.</td>\n",
              "      <td>fr</td>\n",
              "      <td>0.888029</td>\n",
              "    </tr>\n",
              "    <tr>\n",
              "      <th>3505</th>\n",
              "      <td>windows account locked</td>\n",
              "      <td>windows account locked</td>\n",
              "      <td>pyrtfdxu nxfkqmoy</td>\n",
              "      <td>GRP_0</td>\n",
              "      <td>windows account locked</td>\n",
              "      <td>fr</td>\n",
              "      <td>0.885047</td>\n",
              "    </tr>\n",
              "    <tr>\n",
              "      <th>3724</th>\n",
              "      <td>windows account locked</td>\n",
              "      <td>windows account locked</td>\n",
              "      <td>gxawkhsq xqrczonv</td>\n",
              "      <td>GRP_0</td>\n",
              "      <td>windows account locked</td>\n",
              "      <td>fr</td>\n",
              "      <td>0.885047</td>\n",
              "    </tr>\n",
              "    <tr>\n",
              "      <th>3725</th>\n",
              "      <td>windows account locked</td>\n",
              "      <td>windows account locked</td>\n",
              "      <td>lqxhoyic ojxkuftc</td>\n",
              "      <td>GRP_0</td>\n",
              "      <td>windows account locked</td>\n",
              "      <td>fr</td>\n",
              "      <td>0.885047</td>\n",
              "    </tr>\n",
              "    <tr>\n",
              "      <th>3863</th>\n",
              "      <td>windows account locked</td>\n",
              "      <td>windows account locked</td>\n",
              "      <td>fdbgoamk hygxzkla</td>\n",
              "      <td>GRP_0</td>\n",
              "      <td>windows account locked</td>\n",
              "      <td>fr</td>\n",
              "      <td>0.885047</td>\n",
              "    </tr>\n",
              "    <tr>\n",
              "      <th>3891</th>\n",
              "      <td>windows account locked</td>\n",
              "      <td>windows account locked</td>\n",
              "      <td>ecpkblrs buzgjypk</td>\n",
              "      <td>GRP_0</td>\n",
              "      <td>windows account locked</td>\n",
              "      <td>fr</td>\n",
              "      <td>0.885047</td>\n",
              "    </tr>\n",
              "    <tr>\n",
              "      <th>4021</th>\n",
              "      <td>laptop speakers not working. mic not working d...</td>\n",
              "      <td>head set input jack no longer ask questions du...</td>\n",
              "      <td>jgautdmk fpurxzew</td>\n",
              "      <td>GRP_0</td>\n",
              "      <td>head set input jack no longer ask questions du...</td>\n",
              "      <td>fr</td>\n",
              "      <td>0.999391</td>\n",
              "    </tr>\n",
              "    <tr>\n",
              "      <th>4097</th>\n",
              "      <td>windows account locked</td>\n",
              "      <td>windows account locked</td>\n",
              "      <td>awsqjfkm dejmuhlg</td>\n",
              "      <td>GRP_0</td>\n",
              "      <td>windows account locked</td>\n",
              "      <td>fr</td>\n",
              "      <td>0.885047</td>\n",
              "    </tr>\n",
              "    <tr>\n",
              "      <th>4743</th>\n",
              "      <td>windows account locked</td>\n",
              "      <td>windows account locked</td>\n",
              "      <td>xckbimhl ymejrugf</td>\n",
              "      <td>GRP_0</td>\n",
              "      <td>windows account locked</td>\n",
              "      <td>fr</td>\n",
              "      <td>0.885047</td>\n",
              "    </tr>\n",
              "    <tr>\n",
              "      <th>4745</th>\n",
              "      <td>windows account locked</td>\n",
              "      <td>windows account locked</td>\n",
              "      <td>chobktqj qdamxfuc</td>\n",
              "      <td>GRP_0</td>\n",
              "      <td>windows account locked</td>\n",
              "      <td>fr</td>\n",
              "      <td>0.885047</td>\n",
              "    </tr>\n",
              "    <tr>\n",
              "      <th>5133</th>\n",
              "      <td>windows account locked</td>\n",
              "      <td>windows account locked</td>\n",
              "      <td>ajnwuxiy gbhcdlkr</td>\n",
              "      <td>GRP_0</td>\n",
              "      <td>windows account locked</td>\n",
              "      <td>fr</td>\n",
              "      <td>0.885047</td>\n",
              "    </tr>\n",
              "    <tr>\n",
              "      <th>5243</th>\n",
              "      <td>windows account locked</td>\n",
              "      <td>windows account locked</td>\n",
              "      <td>dwafrmth oabwzitv</td>\n",
              "      <td>GRP_0</td>\n",
              "      <td>windows account locked</td>\n",
              "      <td>fr</td>\n",
              "      <td>0.885047</td>\n",
              "    </tr>\n",
              "    <tr>\n",
              "      <th>5271</th>\n",
              "      <td>windows account locked</td>\n",
              "      <td>windows account locked</td>\n",
              "      <td>cjklxmhi hmrkzbxu</td>\n",
              "      <td>GRP_0</td>\n",
              "      <td>windows account locked</td>\n",
              "      <td>fr</td>\n",
              "      <td>0.885047</td>\n",
              "    </tr>\n",
              "    <tr>\n",
              "      <th>5273</th>\n",
              "      <td>windows account locked</td>\n",
              "      <td>windows account locked</td>\n",
              "      <td>urevbjcp krcaylpz</td>\n",
              "      <td>GRP_0</td>\n",
              "      <td>windows account locked</td>\n",
              "      <td>fr</td>\n",
              "      <td>0.885047</td>\n",
              "    </tr>\n",
              "    <tr>\n",
              "      <th>5715</th>\n",
              "      <td>windows account locked</td>\n",
              "      <td>windows account locked</td>\n",
              "      <td>upiyobvj lwohuizr</td>\n",
              "      <td>GRP_0</td>\n",
              "      <td>windows account locked</td>\n",
              "      <td>fr</td>\n",
              "      <td>0.885047</td>\n",
              "    </tr>\n",
              "    <tr>\n",
              "      <th>5741</th>\n",
              "      <td>windows account locked</td>\n",
              "      <td>windows account locked</td>\n",
              "      <td>giumxwvh lfvwjtin</td>\n",
              "      <td>GRP_0</td>\n",
              "      <td>windows account locked</td>\n",
              "      <td>fr</td>\n",
              "      <td>0.885047</td>\n",
              "    </tr>\n",
              "    <tr>\n",
              "      <th>5886</th>\n",
              "      <td>windows account locked</td>\n",
              "      <td>windows account locked</td>\n",
              "      <td>mtcywlxv cklzmxyr</td>\n",
              "      <td>GRP_0</td>\n",
              "      <td>windows account locked</td>\n",
              "      <td>fr</td>\n",
              "      <td>0.885047</td>\n",
              "    </tr>\n",
              "    <tr>\n",
              "      <th>6095</th>\n",
              "      <td>windows account locked</td>\n",
              "      <td>windows account locked</td>\n",
              "      <td>tqaevrng hpocnrvj</td>\n",
              "      <td>GRP_0</td>\n",
              "      <td>windows account locked</td>\n",
              "      <td>fr</td>\n",
              "      <td>0.885047</td>\n",
              "    </tr>\n",
              "    <tr>\n",
              "      <th>6190</th>\n",
              "      <td>reset ess password</td>\n",
              "      <td>reset ess password</td>\n",
              "      <td>apgukfow soqdkxtb</td>\n",
              "      <td>GRP_0</td>\n",
              "      <td>reset ess password</td>\n",
              "      <td>fr</td>\n",
              "      <td>0.914858</td>\n",
              "    </tr>\n",
              "    <tr>\n",
              "      <th>6655</th>\n",
              "      <td>windows account locked</td>\n",
              "      <td>windows account locked</td>\n",
              "      <td>vmbltjsf gwryhfbe</td>\n",
              "      <td>GRP_0</td>\n",
              "      <td>windows account locked</td>\n",
              "      <td>fr</td>\n",
              "      <td>0.885047</td>\n",
              "    </tr>\n",
              "    <tr>\n",
              "      <th>6661</th>\n",
              "      <td>windows account locked</td>\n",
              "      <td>windows account locked</td>\n",
              "      <td>khgfbrdo vjxopikc</td>\n",
              "      <td>GRP_0</td>\n",
              "      <td>windows account locked</td>\n",
              "      <td>fr</td>\n",
              "      <td>0.885047</td>\n",
              "    </tr>\n",
              "    <tr>\n",
              "      <th>6841</th>\n",
              "      <td>windows account locked</td>\n",
              "      <td>windows account locked</td>\n",
              "      <td>gdnshtzv lqrygnob</td>\n",
              "      <td>GRP_0</td>\n",
              "      <td>windows account locked</td>\n",
              "      <td>fr</td>\n",
              "      <td>0.885047</td>\n",
              "    </tr>\n",
              "    <tr>\n",
              "      <th>6850</th>\n",
              "      <td>windows account locked</td>\n",
              "      <td>windows account locked</td>\n",
              "      <td>ihlguasz agnwcqiz</td>\n",
              "      <td>GRP_0</td>\n",
              "      <td>windows account locked</td>\n",
              "      <td>fr</td>\n",
              "      <td>0.885047</td>\n",
              "    </tr>\n",
              "    <tr>\n",
              "      <th>6903</th>\n",
              "      <td>ms crm app on desktop</td>\n",
              "      <td>ms crm app on desktop</td>\n",
              "      <td>pytmhcxq cswovnax</td>\n",
              "      <td>GRP_0</td>\n",
              "      <td>ms crm app on desktop</td>\n",
              "      <td>fr</td>\n",
              "      <td>0.868674</td>\n",
              "    </tr>\n",
              "    <tr>\n",
              "      <th>7425</th>\n",
              "      <td>attendance_tool password reset request</td>\n",
              "      <td>attendance_tool password reset request</td>\n",
              "      <td>pstlrmvf jokbeqnp</td>\n",
              "      <td>GRP_0</td>\n",
              "      <td>attendancetool password reset request</td>\n",
              "      <td>fr</td>\n",
              "      <td>0.847982</td>\n",
              "    </tr>\n",
              "    <tr>\n",
              "      <th>7458</th>\n",
              "      <td>windows account locked</td>\n",
              "      <td>windows account locked</td>\n",
              "      <td>wqfzjycu omleknjd</td>\n",
              "      <td>GRP_0</td>\n",
              "      <td>windows account locked</td>\n",
              "      <td>fr</td>\n",
              "      <td>0.885047</td>\n",
              "    </tr>\n",
              "    <tr>\n",
              "      <th>7466</th>\n",
              "      <td>windows account locked</td>\n",
              "      <td>windows account locked</td>\n",
              "      <td>vwdghyai pjehycoz</td>\n",
              "      <td>GRP_0</td>\n",
              "      <td>windows account locked</td>\n",
              "      <td>fr</td>\n",
              "      <td>0.885047</td>\n",
              "    </tr>\n",
              "    <tr>\n",
              "      <th>7930</th>\n",
              "      <td>forgot attendance_tool password</td>\n",
              "      <td>forgot attendance_tool password</td>\n",
              "      <td>teqkxlra vbinmucx</td>\n",
              "      <td>GRP_0</td>\n",
              "      <td>forgot attendancetool password</td>\n",
              "      <td>fr</td>\n",
              "      <td>0.910036</td>\n",
              "    </tr>\n",
              "    <tr>\n",
              "      <th>7966</th>\n",
              "      <td>domain account unlock</td>\n",
              "      <td>domain account unlock</td>\n",
              "      <td>tjlizqgc ngvwoukp</td>\n",
              "      <td>GRP_0</td>\n",
              "      <td>domain account unlock</td>\n",
              "      <td>fr</td>\n",
              "      <td>0.813274</td>\n",
              "    </tr>\n",
              "    <tr>\n",
              "      <th>8109</th>\n",
              "      <td>windows account locked</td>\n",
              "      <td>windows account locked</td>\n",
              "      <td>lwuhfjsq ltanywzq</td>\n",
              "      <td>GRP_0</td>\n",
              "      <td>windows account locked</td>\n",
              "      <td>fr</td>\n",
              "      <td>0.885047</td>\n",
              "    </tr>\n",
              "    <tr>\n",
              "      <th>8267</th>\n",
              "      <td>windows account locked</td>\n",
              "      <td>windows account locked</td>\n",
              "      <td>ymepzlno eobardlm</td>\n",
              "      <td>GRP_0</td>\n",
              "      <td>windows account locked</td>\n",
              "      <td>fr</td>\n",
              "      <td>0.885047</td>\n",
              "    </tr>\n",
              "    <tr>\n",
              "      <th>8268</th>\n",
              "      <td>windows account locked</td>\n",
              "      <td>windows account locked</td>\n",
              "      <td>khyzsgnv aletvocx</td>\n",
              "      <td>GRP_0</td>\n",
              "      <td>windows account locked</td>\n",
              "      <td>fr</td>\n",
              "      <td>0.885047</td>\n",
              "    </tr>\n",
              "    <tr>\n",
              "      <th>8458</th>\n",
              "      <td>windows account locked</td>\n",
              "      <td>windows account locked</td>\n",
              "      <td>nfckwprm iykptjna</td>\n",
              "      <td>GRP_0</td>\n",
              "      <td>windows account locked</td>\n",
              "      <td>fr</td>\n",
              "      <td>0.885047</td>\n",
              "    </tr>\n",
              "  </tbody>\n",
              "</table>\n",
              "</div>"
            ],
            "text/plain": [
              "                                      Short description  ... language_probability\n",
              "183                             windows account locked   ...             0.885047\n",
              "274                             windows account locked   ...             0.885047\n",
              "388                                reset users password  ...             0.809719\n",
              "496                              windows account locked  ...             0.885047\n",
              "1152                             windows account unlock  ...             0.936399\n",
              "1217                             windows account unlock  ...             0.936399\n",
              "1458                            windows account locked   ...             0.885047\n",
              "1502                             windows account unlock  ...             0.936399\n",
              "1527          ticket query regarding : ticket_no0447258  ...             0.886694\n",
              "1752                      vip 2: windows account unlock  ...             0.936399\n",
              "2339                            power management query   ...             0.943035\n",
              "2414            account locked. password reset request.  ...             0.874170\n",
              "2481                             windows account unlock  ...             0.936399\n",
              "2793        erp SID_39 account locked // password reset  ...             0.874170\n",
              "2927                             windows account locked  ...             0.885047\n",
              "3074                   erp SID_34 password reset done.   ...             0.929436\n",
              "3183                               hr_tool etime query   ...             0.952324\n",
              "3256                                   forgot password.  ...             0.831326\n",
              "3352                   ms crmdynamics deployment query   ...             0.888029\n",
              "3505                             windows account locked  ...             0.885047\n",
              "3724                             windows account locked  ...             0.885047\n",
              "3725                             windows account locked  ...             0.885047\n",
              "3863                            windows account locked   ...             0.885047\n",
              "3891                            windows account locked   ...             0.885047\n",
              "4021  laptop speakers not working. mic not working d...  ...             0.999391\n",
              "4097                            windows account locked   ...             0.885047\n",
              "4743                            windows account locked   ...             0.885047\n",
              "4745                            windows account locked   ...             0.885047\n",
              "5133                            windows account locked   ...             0.885047\n",
              "5243                            windows account locked   ...             0.885047\n",
              "5271                            windows account locked   ...             0.885047\n",
              "5273                            windows account locked   ...             0.885047\n",
              "5715                             windows account locked  ...             0.885047\n",
              "5741                            windows account locked   ...             0.885047\n",
              "5886                            windows account locked   ...             0.885047\n",
              "6095                            windows account locked   ...             0.885047\n",
              "6190                                reset ess password   ...             0.914858\n",
              "6655                            windows account locked   ...             0.885047\n",
              "6661                            windows account locked   ...             0.885047\n",
              "6841                            windows account locked   ...             0.885047\n",
              "6850                             windows account locked  ...             0.885047\n",
              "6903                              ms crm app on desktop  ...             0.868674\n",
              "7425            attendance_tool password reset request   ...             0.847982\n",
              "7458                            windows account locked   ...             0.885047\n",
              "7466                            windows account locked   ...             0.885047\n",
              "7930                    forgot attendance_tool password  ...             0.910036\n",
              "7966                              domain account unlock  ...             0.813274\n",
              "8109                            windows account locked   ...             0.885047\n",
              "8267                            windows account locked   ...             0.885047\n",
              "8268                            windows account locked   ...             0.885047\n",
              "8458                             windows account locked  ...             0.885047\n",
              "\n",
              "[51 rows x 7 columns]"
            ]
          },
          "metadata": {
            "tags": []
          },
          "execution_count": 236
        }
      ]
    },
    {
      "cell_type": "code",
      "metadata": {
        "id": "nJS7_FtmSwDv"
      },
      "source": [
        "dataset['CleanDesc']=dataset.Description.fillna('blank')\n",
        "dataset['CleanDesc']=dataset['CleanDesc'].str.replace('\\\\r','')\n",
        "dataset['CleanDesc']=dataset['CleanDesc'].str.replace('\\\\n','')\n",
        "dataset['CleanDesc']=dataset['CleanDesc'].str.replace('_',' ')\n",
        "for caller in dataset.Caller.unique():\n",
        "  callerFirstname=caller.split(' ')[0]\n",
        "  callerLastname=caller.split(' ')[1]\n",
        "  dataset['CleanDesc']=dataset.CleanDesc.str.replace(callerFirstname,'caller')\n",
        "  dataset['CleanDesc']=dataset.CleanDesc.str.replace(callerLastname,'caller')\n"
      ],
      "execution_count": null,
      "outputs": []
    },
    {
      "cell_type": "code",
      "metadata": {
        "id": "KUgge_iCU8jZ"
      },
      "source": [
        "\n",
        "langDetect=dataset.iloc[6250:6253].assign(language_Description=[detect(x) for x in dataset.CleanDesc.iloc[6250:6253]])\n"
      ],
      "execution_count": null,
      "outputs": []
    },
    {
      "cell_type": "code",
      "metadata": {
        "colab": {
          "base_uri": "https://localhost:8080/"
        },
        "id": "dWHYjK-4vl5J",
        "outputId": "5ec23117-7706-47ec-b128-44b58d0480cf"
      },
      "source": [
        "dataset.iloc[6253]"
      ],
      "execution_count": null,
      "outputs": [
        {
          "output_type": "execute_result",
          "data": {
            "text/plain": [
              "Short description    in the inbox always show there are several ema...\n",
              "Description                                                      +86  \n",
              "Caller                                               mqbxwpfn uclrqfxa\n",
              "Assignment group                                                 GRP_0\n",
              "CleanDesc                                                        +86  \n",
              "Name: 6253, dtype: object"
            ]
          },
          "metadata": {
            "tags": []
          },
          "execution_count": 222
        }
      ]
    },
    {
      "cell_type": "code",
      "metadata": {
        "colab": {
          "base_uri": "https://localhost:8080/"
        },
        "id": "wXaNcTKQno-R",
        "outputId": "eb4e4cfc-2977-4226-f353-eb67db55d358"
      },
      "source": [
        "langDetect.language_Description.value_counts()"
      ],
      "execution_count": null,
      "outputs": [
        {
          "output_type": "execute_result",
          "data": {
            "text/plain": [
              "en    2489\n",
              "de     133\n",
              "af      93\n",
              "it      65\n",
              "fr      47\n",
              "sv      33\n",
              "ca      27\n",
              "no      27\n",
              "da      26\n",
              "nl      16\n",
              "es      16\n",
              "pl       7\n",
              "ro       5\n",
              "pt       5\n",
              "id       3\n",
              "tl       2\n",
              "tr       2\n",
              "cy       2\n",
              "fi       1\n",
              "sk       1\n",
              "Name: language_Description, dtype: int64"
            ]
          },
          "metadata": {
            "tags": []
          },
          "execution_count": 177
        }
      ]
    },
    {
      "cell_type": "code",
      "metadata": {
        "colab": {
          "base_uri": "https://localhost:8080/",
          "height": 1000
        },
        "id": "q0IDVP2RosSx",
        "outputId": "c678a4c4-82ad-42e9-df8f-06b63516a9aa"
      },
      "source": [
        "langDetect[langDetect.language_Description=='af']\n"
      ],
      "execution_count": null,
      "outputs": [
        {
          "output_type": "execute_result",
          "data": {
            "text/html": [
              "<div>\n",
              "<style scoped>\n",
              "    .dataframe tbody tr th:only-of-type {\n",
              "        vertical-align: middle;\n",
              "    }\n",
              "\n",
              "    .dataframe tbody tr th {\n",
              "        vertical-align: top;\n",
              "    }\n",
              "\n",
              "    .dataframe thead th {\n",
              "        text-align: right;\n",
              "    }\n",
              "</style>\n",
              "<table border=\"1\" class=\"dataframe\">\n",
              "  <thead>\n",
              "    <tr style=\"text-align: right;\">\n",
              "      <th></th>\n",
              "      <th>Short description</th>\n",
              "      <th>Description</th>\n",
              "      <th>Caller</th>\n",
              "      <th>Assignment group</th>\n",
              "      <th>CleanDesc</th>\n",
              "      <th>language_Description</th>\n",
              "    </tr>\n",
              "  </thead>\n",
              "  <tbody>\n",
              "    <tr>\n",
              "      <th>25</th>\n",
              "      <td>erp SID_37 password reset</td>\n",
              "      <td>erp SID_37 password reset</td>\n",
              "      <td>jqhtkfsm xoehtbnl</td>\n",
              "      <td>GRP_0</td>\n",
              "      <td>erp SID37 password reset</td>\n",
              "      <td>af</td>\n",
              "    </tr>\n",
              "    <tr>\n",
              "      <th>33</th>\n",
              "      <td>ess password reset</td>\n",
              "      <td>ess password reset</td>\n",
              "      <td>fsqwkbez eudsantq</td>\n",
              "      <td>GRP_0</td>\n",
              "      <td>ess password reset</td>\n",
              "      <td>af</td>\n",
              "    </tr>\n",
              "    <tr>\n",
              "      <th>52</th>\n",
              "      <td>vip 2 - i need my password_management_tool pas...</td>\n",
              "      <td>i need my password_management_tool password ma...</td>\n",
              "      <td>jwhmqnye xlpvdwre</td>\n",
              "      <td>GRP_0</td>\n",
              "      <td>i need my passwordmanagementtool password mana...</td>\n",
              "      <td>af</td>\n",
              "    </tr>\n",
              "    <tr>\n",
              "      <th>153</th>\n",
              "      <td>outlook hangs.</td>\n",
              "      <td>outlook hangs.</td>\n",
              "      <td>rjsulvat uanigkqc</td>\n",
              "      <td>GRP_0</td>\n",
              "      <td>outlook hangs.</td>\n",
              "      <td>af</td>\n",
              "    </tr>\n",
              "    <tr>\n",
              "      <th>154</th>\n",
              "      <td>vpn not working.</td>\n",
              "      <td>vpn not working.</td>\n",
              "      <td>vtnkwxhr tqxrglvh</td>\n",
              "      <td>GRP_0</td>\n",
              "      <td>vpn not working.</td>\n",
              "      <td>af</td>\n",
              "    </tr>\n",
              "    <tr>\n",
              "      <th>192</th>\n",
              "      <td>password reset</td>\n",
              "      <td>password reset</td>\n",
              "      <td>ptaerwvk ibvpucyn</td>\n",
              "      <td>GRP_0</td>\n",
              "      <td>password reset</td>\n",
              "      <td>af</td>\n",
              "    </tr>\n",
              "    <tr>\n",
              "      <th>214</th>\n",
              "      <td>ess kiosk user password reset</td>\n",
              "      <td>ess kiosk user password reset</td>\n",
              "      <td>rbozivdq gmlhrtvp</td>\n",
              "      <td>GRP_0</td>\n",
              "      <td>ess kiosk user password reset</td>\n",
              "      <td>af</td>\n",
              "    </tr>\n",
              "    <tr>\n",
              "      <th>292</th>\n",
              "      <td>need password reset</td>\n",
              "      <td>need password reset</td>\n",
              "      <td>mkozqvfr ixsqykhe</td>\n",
              "      <td>GRP_0</td>\n",
              "      <td>need password reset</td>\n",
              "      <td>af</td>\n",
              "    </tr>\n",
              "    <tr>\n",
              "      <th>296</th>\n",
              "      <td>need erp password reset for hdty.yrhxssytu@com...</td>\n",
              "      <td>need erp password reset for hdty.yrhxssytu@com...</td>\n",
              "      <td>ldgyxbrm cdporkfj</td>\n",
              "      <td>GRP_0</td>\n",
              "      <td>need erp password reset for hdty.yrhxssytu@com...</td>\n",
              "      <td>af</td>\n",
              "    </tr>\n",
              "    <tr>\n",
              "      <th>316</th>\n",
              "      <td>erp SID_34 password reset</td>\n",
              "      <td>erp SID_34 password reset</td>\n",
              "      <td>lbtrsuev fxyrgeps</td>\n",
              "      <td>GRP_0</td>\n",
              "      <td>erp SID34 password reset</td>\n",
              "      <td>af</td>\n",
              "    </tr>\n",
              "    <tr>\n",
              "      <th>339</th>\n",
              "      <td>konto gespaerrt.</td>\n",
              "      <td>konto gespaerrt.</td>\n",
              "      <td>mtairqlh zuhyfmnp</td>\n",
              "      <td>GRP_0</td>\n",
              "      <td>konto gespaerrt.</td>\n",
              "      <td>af</td>\n",
              "    </tr>\n",
              "    <tr>\n",
              "      <th>388</th>\n",
              "      <td>reset users password</td>\n",
              "      <td>reset users password</td>\n",
              "      <td>qcehailo wqynckxg</td>\n",
              "      <td>GRP_0</td>\n",
              "      <td>reset users password</td>\n",
              "      <td>af</td>\n",
              "    </tr>\n",
              "    <tr>\n",
              "      <th>393</th>\n",
              "      <td>password reset</td>\n",
              "      <td>password reset</td>\n",
              "      <td>pwvtoemq ugnxwfoe</td>\n",
              "      <td>GRP_0</td>\n",
              "      <td>password reset</td>\n",
              "      <td>af</td>\n",
              "    </tr>\n",
              "    <tr>\n",
              "      <th>420</th>\n",
              "      <td>password reset</td>\n",
              "      <td>password reset</td>\n",
              "      <td>lrbjqcmh jbiwtzqr</td>\n",
              "      <td>GRP_0</td>\n",
              "      <td>password reset</td>\n",
              "      <td>af</td>\n",
              "    </tr>\n",
              "    <tr>\n",
              "      <th>422</th>\n",
              "      <td>password reset</td>\n",
              "      <td>password reset</td>\n",
              "      <td>gpdywmbt pmxfiqkl</td>\n",
              "      <td>GRP_0</td>\n",
              "      <td>password reset</td>\n",
              "      <td>af</td>\n",
              "    </tr>\n",
              "    <tr>\n",
              "      <th>442</th>\n",
              "      <td>unable to login to erp pp5t463</td>\n",
              "      <td>password reset needed</td>\n",
              "      <td>qcehailo wqynckxg</td>\n",
              "      <td>GRP_0</td>\n",
              "      <td>password reset needed</td>\n",
              "      <td>af</td>\n",
              "    </tr>\n",
              "    <tr>\n",
              "      <th>526</th>\n",
              "      <td>password reset</td>\n",
              "      <td>password reset</td>\n",
              "      <td>phksfqxe wkbovsmu</td>\n",
              "      <td>GRP_0</td>\n",
              "      <td>password reset</td>\n",
              "      <td>af</td>\n",
              "    </tr>\n",
              "    <tr>\n",
              "      <th>527</th>\n",
              "      <td>erp SID_34 password reset.</td>\n",
              "      <td>erp SID_34 password reset.</td>\n",
              "      <td>krynlisw dqfeglkc</td>\n",
              "      <td>GRP_0</td>\n",
              "      <td>erp SID34 password reset.</td>\n",
              "      <td>af</td>\n",
              "    </tr>\n",
              "    <tr>\n",
              "      <th>571</th>\n",
              "      <td>erp SID_34 password reset.</td>\n",
              "      <td>erp SID_34 password reset.</td>\n",
              "      <td>jvxtfhkg heptuizn</td>\n",
              "      <td>GRP_0</td>\n",
              "      <td>erp SID34 password reset.</td>\n",
              "      <td>af</td>\n",
              "    </tr>\n",
              "    <tr>\n",
              "      <th>596</th>\n",
              "      <td>password reset - vvjotsgssea</td>\n",
              "      <td>password reset - vvjotsgssea</td>\n",
              "      <td>jwoiyzfp zlftrkpq</td>\n",
              "      <td>GRP_0</td>\n",
              "      <td>password reset - vvjotsgssea</td>\n",
              "      <td>af</td>\n",
              "    </tr>\n",
              "    <tr>\n",
              "      <th>681</th>\n",
              "      <td>password reset</td>\n",
              "      <td>password reset</td>\n",
              "      <td>eboutzmn umzvbkfh</td>\n",
              "      <td>GRP_0</td>\n",
              "      <td>password reset</td>\n",
              "      <td>af</td>\n",
              "    </tr>\n",
              "    <tr>\n",
              "      <th>701</th>\n",
              "      <td>outlook not working</td>\n",
              "      <td>outlook not working</td>\n",
              "      <td>pxbzltkn fsediuyr</td>\n",
              "      <td>GRP_0</td>\n",
              "      <td>outlook not working</td>\n",
              "      <td>af</td>\n",
              "    </tr>\n",
              "    <tr>\n",
              "      <th>743</th>\n",
              "      <td>outlook and skype not responding.</td>\n",
              "      <td>outlook and skype not responding.</td>\n",
              "      <td>ewvugfcy nxbdajgh</td>\n",
              "      <td>GRP_0</td>\n",
              "      <td>outlook and skype not responding.</td>\n",
              "      <td>af</td>\n",
              "    </tr>\n",
              "    <tr>\n",
              "      <th>761</th>\n",
              "      <td>kabel lan 10m liefern \\gogtyekhan merdivan</td>\n",
              "      <td>kabel lan 10m liefern \\gogtyekhan merdivan</td>\n",
              "      <td>qidgvtwa qvbutayx</td>\n",
              "      <td>GRP_24</td>\n",
              "      <td>kabel lan 10m liefern \\gogtyekhan merdivan</td>\n",
              "      <td>af</td>\n",
              "    </tr>\n",
              "    <tr>\n",
              "      <th>850</th>\n",
              "      <td>password reset</td>\n",
              "      <td>password reset</td>\n",
              "      <td>qcehailo wqynckxg</td>\n",
              "      <td>GRP_0</td>\n",
              "      <td>password reset</td>\n",
              "      <td>af</td>\n",
              "    </tr>\n",
              "    <tr>\n",
              "      <th>966</th>\n",
              "      <td>erp SID_37 password reset</td>\n",
              "      <td>erp SID_37 password reset</td>\n",
              "      <td>mpihysnw wrctgoan</td>\n",
              "      <td>GRP_0</td>\n",
              "      <td>erp SID37 password reset</td>\n",
              "      <td>af</td>\n",
              "    </tr>\n",
              "  </tbody>\n",
              "</table>\n",
              "</div>"
            ],
            "text/plain": [
              "                                     Short description  ... language_Description\n",
              "25                          erp SID_37 password reset   ...                   af\n",
              "33                                  ess password reset  ...                   af\n",
              "52   vip 2 - i need my password_management_tool pas...  ...                   af\n",
              "153                                     outlook hangs.  ...                   af\n",
              "154                                   vpn not working.  ...                   af\n",
              "192                                    password reset   ...                   af\n",
              "214                      ess kiosk user password reset  ...                   af\n",
              "292                                need password reset  ...                   af\n",
              "296  need erp password reset for hdty.yrhxssytu@com...  ...                   af\n",
              "316                          erp SID_34 password reset  ...                   af\n",
              "339                                   konto gespaerrt.  ...                   af\n",
              "388                               reset users password  ...                   af\n",
              "393                                    password reset   ...                   af\n",
              "420                                     password reset  ...                   af\n",
              "422                                     password reset  ...                   af\n",
              "442                     unable to login to erp pp5t463  ...                   af\n",
              "526                                     password reset  ...                   af\n",
              "527                         erp SID_34 password reset.  ...                   af\n",
              "571                         erp SID_34 password reset.  ...                   af\n",
              "596                       password reset - vvjotsgssea  ...                   af\n",
              "681                                     password reset  ...                   af\n",
              "701                                outlook not working  ...                   af\n",
              "743                  outlook and skype not responding.  ...                   af\n",
              "761         kabel lan 10m liefern \\gogtyekhan merdivan  ...                   af\n",
              "850                                     password reset  ...                   af\n",
              "966                          erp SID_37 password reset  ...                   af\n",
              "\n",
              "[26 rows x 6 columns]"
            ]
          },
          "metadata": {
            "tags": []
          },
          "execution_count": 173
        }
      ]
    },
    {
      "cell_type": "markdown",
      "metadata": {
        "id": "Yd4XdJwVbhkZ"
      },
      "source": [
        "###### @To do $Purnendu(5) Distribution of Language per group"
      ]
    },
    {
      "cell_type": "code",
      "metadata": {
        "id": "tDJQyY6vs2qF"
      },
      "source": [
        ""
      ],
      "execution_count": null,
      "outputs": []
    },
    {
      "cell_type": "code",
      "metadata": {
        "colab": {
          "base_uri": "https://localhost:8080/",
          "height": 711
        },
        "id": "DMdm4TxSqEdV",
        "outputId": "d32ead36-cfa9-4c10-8dc0-f9b6cf761fc2"
      },
      "source": [
        ""
      ],
      "execution_count": null,
      "outputs": [
        {
          "output_type": "execute_result",
          "data": {
            "text/html": [
              "<div>\n",
              "<style scoped>\n",
              "    .dataframe tbody tr th:only-of-type {\n",
              "        vertical-align: middle;\n",
              "    }\n",
              "\n",
              "    .dataframe tbody tr th {\n",
              "        vertical-align: top;\n",
              "    }\n",
              "\n",
              "    .dataframe thead th {\n",
              "        text-align: right;\n",
              "    }\n",
              "</style>\n",
              "<table border=\"1\" class=\"dataframe\">\n",
              "  <thead>\n",
              "    <tr style=\"text-align: right;\">\n",
              "      <th></th>\n",
              "      <th>Short description</th>\n",
              "      <th>Description</th>\n",
              "      <th>Caller</th>\n",
              "      <th>Assignment group</th>\n",
              "      <th>CleanDesc</th>\n",
              "      <th>language_Description</th>\n",
              "    </tr>\n",
              "  </thead>\n",
              "  <tbody>\n",
              "    <tr>\n",
              "      <th>0</th>\n",
              "      <td>login issue</td>\n",
              "      <td>-verified user details.(employee# &amp; manager na...</td>\n",
              "      <td>spxjnwir pjlcoqds</td>\n",
              "      <td>GRP_0</td>\n",
              "      <td>-verified user details.(employee# &amp; manager na...</td>\n",
              "      <td>en</td>\n",
              "    </tr>\n",
              "    <tr>\n",
              "      <th>1</th>\n",
              "      <td>outlook</td>\n",
              "      <td>\\r\\n\\r\\nreceived from: hmjdrvpb.komuaywn@gmail...</td>\n",
              "      <td>hmjdrvpb komuaywn</td>\n",
              "      <td>GRP_0</td>\n",
              "      <td>received from: caller.caller@gmail.comhello te...</td>\n",
              "      <td>en</td>\n",
              "    </tr>\n",
              "    <tr>\n",
              "      <th>2</th>\n",
              "      <td>cant log in to vpn</td>\n",
              "      <td>\\r\\n\\r\\nreceived from: eylqgodm.ybqkwiam@gmail...</td>\n",
              "      <td>eylqgodm ybqkwiam</td>\n",
              "      <td>GRP_0</td>\n",
              "      <td>received from: caller.caller@gmail.comhii cann...</td>\n",
              "      <td>en</td>\n",
              "    </tr>\n",
              "    <tr>\n",
              "      <th>21</th>\n",
              "      <td>vpn issue</td>\n",
              "      <td>\\r\\n\\r\\nreceived from: ugephfta.hrbqkvij@gmail...</td>\n",
              "      <td>ugephfta hrbqkvij</td>\n",
              "      <td>GRP_0</td>\n",
              "      <td>received from: caller.caller@gmail.comhello he...</td>\n",
              "      <td>en</td>\n",
              "    </tr>\n",
              "    <tr>\n",
              "      <th>24</th>\n",
              "      <td>vpn not working</td>\n",
              "      <td>\\n\\nreceived from: dceoufyz.saufqkmd@gmail.com...</td>\n",
              "      <td>dceoufyz saufqkmd</td>\n",
              "      <td>GRP_0</td>\n",
              "      <td>received from: caller.caller@gmail.comhello,i'...</td>\n",
              "      <td>en</td>\n",
              "    </tr>\n",
              "    <tr>\n",
              "      <th>...</th>\n",
              "      <td>...</td>\n",
              "      <td>...</td>\n",
              "      <td>...</td>\n",
              "      <td>...</td>\n",
              "      <td>...</td>\n",
              "      <td>...</td>\n",
              "    </tr>\n",
              "    <tr>\n",
              "      <th>982</th>\n",
              "      <td>business_clientæ— æ³•ç™»å…¥</td>\n",
              "      <td>\\n\\nreceived from: ktghvuwr.uwtakcmj@gmail.com...</td>\n",
              "      <td>ktghvuwr uwtakcmj</td>\n",
              "      <td>GRP_0</td>\n",
              "      <td>received from: caller.caller@gmail.comhelloå…³...</td>\n",
              "      <td>da</td>\n",
              "    </tr>\n",
              "    <tr>\n",
              "      <th>989</th>\n",
              "      <td>pls reset me the SID_39 crm production access</td>\n",
              "      <td>name:francestrhuco\\nlanguage:\\nbrowser:microso...</td>\n",
              "      <td>uvdqkbgi suabfdci</td>\n",
              "      <td>GRP_0</td>\n",
              "      <td>name:francestrhucolanguage:browser:microsoft i...</td>\n",
              "      <td>en</td>\n",
              "    </tr>\n",
              "    <tr>\n",
              "      <th>994</th>\n",
              "      <td>help to change the windows password using pass...</td>\n",
              "      <td>help to change the windows password using pass...</td>\n",
              "      <td>crjhotyk pxslorbe</td>\n",
              "      <td>GRP_0</td>\n",
              "      <td>help to change the windows password using pass...</td>\n",
              "      <td>en</td>\n",
              "    </tr>\n",
              "    <tr>\n",
              "      <th>997</th>\n",
              "      <td>probleme mit login in br \\usalikfj lfmpxbcn</td>\n",
              "      <td>probleme mit login in br \\usalikfj lfmpxbcn</td>\n",
              "      <td>usalikfj lfmpxbcn</td>\n",
              "      <td>GRP_24</td>\n",
              "      <td>probleme mit login in br \\caller caller</td>\n",
              "      <td>en</td>\n",
              "    </tr>\n",
              "    <tr>\n",
              "      <th>998</th>\n",
              "      <td>erp</td>\n",
              "      <td>\\n\\nreceived from: tdkfuobm.qrtmaxos@gmail.com...</td>\n",
              "      <td>tdkfuobm qrtmaxos</td>\n",
              "      <td>GRP_0</td>\n",
              "      <td>received from: caller.caller@gmail.comgood mor...</td>\n",
              "      <td>en</td>\n",
              "    </tr>\n",
              "  </tbody>\n",
              "</table>\n",
              "<p>252 rows × 6 columns</p>\n",
              "</div>"
            ],
            "text/plain": [
              "                                     Short description  ... language_Description\n",
              "0                                          login issue  ...                   en\n",
              "1                                              outlook  ...                   en\n",
              "2                                   cant log in to vpn  ...                   en\n",
              "21                                           vpn issue  ...                   en\n",
              "24                                     vpn not working  ...                   en\n",
              "..                                                 ...  ...                  ...\n",
              "982                        business_clientæ— æ³•ç™»å…¥  ...                   da\n",
              "989      pls reset me the SID_39 crm production access  ...                   en\n",
              "994  help to change the windows password using pass...  ...                   en\n",
              "997        probleme mit login in br \\usalikfj lfmpxbcn  ...                   en\n",
              "998                                                erp  ...                   en\n",
              "\n",
              "[252 rows x 6 columns]"
            ]
          },
          "metadata": {
            "tags": []
          },
          "execution_count": 171
        }
      ]
    },
    {
      "cell_type": "markdown",
      "metadata": {
        "id": "RWF8uMBMqDH4"
      },
      "source": [
        "##### @To-do $Purnendu(5) Use translators to translate other languages to English or divide the dataset for each language and build seperate models for each.\n"
      ]
    },
    {
      "cell_type": "code",
      "metadata": {
        "id": "v11tRZkcoyPQ"
      },
      "source": [
        ""
      ],
      "execution_count": null,
      "outputs": []
    },
    {
      "cell_type": "markdown",
      "metadata": {
        "id": "lmRoRjnAoyyO"
      },
      "source": [
        "####@To -Do $Siddhant(5)...Data contains special characters , punctuation marks , emails and caller numbers , caller first name and last names which are masked \n",
        "Data has to be cleaned , translated  for Lementization and text Normalization"
      ]
    },
    {
      "cell_type": "code",
      "metadata": {
        "id": "V2NBt3bRpSS6"
      },
      "source": [
        "\n"
      ],
      "execution_count": null,
      "outputs": []
    },
    {
      "cell_type": "markdown",
      "metadata": {
        "id": "kFfDlPn3u-IK"
      },
      "source": [
        "##### @ To -Do $Avik Spell Check ? \n",
        "pycorrecter, pyspellchecker"
      ]
    },
    {
      "cell_type": "markdown",
      "metadata": {
        "id": "pdesEO91vEHr"
      },
      "source": [
        ""
      ]
    },
    {
      "cell_type": "code",
      "metadata": {
        "id": "W_H9IuU9E0M5"
      },
      "source": [
        ""
      ],
      "execution_count": null,
      "outputs": []
    },
    {
      "cell_type": "markdown",
      "metadata": {
        "id": "NtWeQxelpTL0"
      },
      "source": [
        "#### @To do $Avik -Lemmatization"
      ]
    },
    {
      "cell_type": "code",
      "metadata": {
        "id": "O-N5q5yHppk0"
      },
      "source": [
        ""
      ],
      "execution_count": null,
      "outputs": []
    },
    {
      "cell_type": "markdown",
      "metadata": {
        "id": "oI6YD1Jeq3wV"
      },
      "source": [
        "#### @To do $Avik - get total length and word count of vocabolory \n",
        "Short Description and Description columns\n"
      ]
    },
    {
      "cell_type": "code",
      "metadata": {
        "id": "pUXvYR16rEkF"
      },
      "source": [
        ""
      ],
      "execution_count": null,
      "outputs": []
    },
    {
      "cell_type": "markdown",
      "metadata": {
        "id": "T4lkeMNttEg7"
      },
      "source": [
        "##### @To Do $Avik ,$Sid- N-Grams and plot"
      ]
    },
    {
      "cell_type": "code",
      "metadata": {
        "id": "D3KzvejDtJ4J"
      },
      "source": [
        ""
      ],
      "execution_count": null,
      "outputs": []
    },
    {
      "cell_type": "code",
      "metadata": {
        "id": "LqOTutUktRnP"
      },
      "source": [
        ""
      ],
      "execution_count": null,
      "outputs": []
    },
    {
      "cell_type": "markdown",
      "metadata": {
        "id": "vZsWRiBetR8m"
      },
      "source": [
        "##### @ TO -DO $Avik Word Cloud"
      ]
    },
    {
      "cell_type": "code",
      "metadata": {
        "id": "HocBCSyWtWqi"
      },
      "source": [
        ""
      ],
      "execution_count": null,
      "outputs": []
    },
    {
      "cell_type": "markdown",
      "metadata": {
        "id": "z5UHqttRrFD8"
      },
      "source": [
        "#### @To do $Siddhant EDA on caller Column\n",
        "Code to get distribution od Callers for each group"
      ]
    },
    {
      "cell_type": "code",
      "metadata": {
        "id": "Ld-9Yt_1sfS3"
      },
      "source": [
        ""
      ],
      "execution_count": null,
      "outputs": []
    },
    {
      "cell_type": "markdown",
      "metadata": {
        "id": "usfR5aiYsQkA"
      },
      "source": [
        "Check if any caller appears to raise ticket for multiple groups\n"
      ]
    },
    {
      "cell_type": "code",
      "metadata": {
        "id": "8Ay54JTWseoP"
      },
      "source": [
        ""
      ],
      "execution_count": null,
      "outputs": []
    },
    {
      "cell_type": "markdown",
      "metadata": {
        "id": "BHzBEZ11zLEu"
      },
      "source": [
        "### Preprocessing"
      ]
    },
    {
      "cell_type": "code",
      "metadata": {
        "id": "7jFu3hZHzRre"
      },
      "source": [
        ""
      ],
      "execution_count": null,
      "outputs": []
    },
    {
      "cell_type": "markdown",
      "metadata": {
        "id": "mhxQpJslguFR"
      },
      "source": [
        "###### @To-Do $Siddhant TFIDF and Bag of words (Experiment)"
      ]
    },
    {
      "cell_type": "code",
      "metadata": {
        "id": "gGMFXZn0dfL7"
      },
      "source": [
        "##TFID ,Bag of words - to identify top keywords in GRP_0 and all other groups"
      ],
      "execution_count": null,
      "outputs": []
    },
    {
      "cell_type": "code",
      "metadata": {
        "id": "zTnjCE0FgtIt"
      },
      "source": [
        ""
      ],
      "execution_count": null,
      "outputs": []
    },
    {
      "cell_type": "markdown",
      "metadata": {
        "id": "bCdm1ZOUzSX2"
      },
      "source": [
        "#### Embeddings - Glove > Word2Vec"
      ]
    },
    {
      "cell_type": "code",
      "metadata": {
        "id": "nnLOZC1LzZqY"
      },
      "source": [
        ""
      ],
      "execution_count": null,
      "outputs": []
    },
    {
      "cell_type": "code",
      "metadata": {
        "id": "-TiShxJZzauc"
      },
      "source": [
        ""
      ],
      "execution_count": null,
      "outputs": []
    },
    {
      "cell_type": "markdown",
      "metadata": {
        "id": "FjDS2DAj0dDQ"
      },
      "source": [
        "Model Pipeline\n"
      ]
    },
    {
      "cell_type": "code",
      "metadata": {
        "id": "Ynq0V_vD0f5q"
      },
      "source": [
        ""
      ],
      "execution_count": null,
      "outputs": []
    }
  ]
}